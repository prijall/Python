{
  "nbformat": 4,
  "nbformat_minor": 0,
  "metadata": {
    "colab": {
      "provenance": [],
      "gpuType": "T4",
      "authorship_tag": "ABX9TyPjUNBGALCRq9Msd9YReZsN"
    },
    "kernelspec": {
      "name": "python3",
      "display_name": "Python 3"
    },
    "language_info": {
      "name": "python"
    },
    "accelerator": "GPU"
  },
  "cells": [
    {
      "cell_type": "code",
      "execution_count": 47,
      "metadata": {
        "id": "HQcem3Jmg6Tm"
      },
      "outputs": [],
      "source": [
        "#@ Importing necessary libraries and dependencies:\n",
        "import torch\n",
        "from torch import nn"
      ]
    },
    {
      "cell_type": "code",
      "source": [
        "x=[[1, 2], [3, 4], [5, 6], [7, 8]]\n",
        "y=[[2], [8], [4], [7]]"
      ],
      "metadata": {
        "id": "W1XHopB-hAQZ"
      },
      "execution_count": 48,
      "outputs": []
    },
    {
      "cell_type": "code",
      "source": [
        "X=torch.tensor(x).float()\n",
        "Y=torch.tensor(y).float()"
      ],
      "metadata": {
        "id": "nMftHxbrlcVC"
      },
      "execution_count": 49,
      "outputs": []
    },
    {
      "cell_type": "code",
      "source": [
        "device='cuda' if torch.cuda.is_available() else 'cpu'\n",
        "X=X.to(device)\n",
        "Y=Y.to(device)"
      ],
      "metadata": {
        "id": "BM0APMoFhi-i"
      },
      "execution_count": 56,
      "outputs": []
    },
    {
      "cell_type": "code",
      "source": [
        "class NeuralNet(nn.Module):\n",
        "  def __init__(self):\n",
        "    super().__init__()\n",
        "    self.inputlayer=nn.Linear(2, 8)\n",
        "    self.hiddenlayer=nn.ReLU()\n",
        "    self.outputlayer=nn.Linear(8,1)\n",
        "\n",
        "  def forward(self, x):\n",
        "    x= self.inputlayer(x)\n",
        "    x= self.hiddenlayer(x)\n",
        "    x= self.outputlayer(x)\n",
        "    return x\n",
        "\n"
      ],
      "metadata": {
        "id": "Un6UbeNeiMC6"
      },
      "execution_count": 59,
      "outputs": []
    },
    {
      "cell_type": "code",
      "source": [
        "mynet=NeuralNet().to(device)"
      ],
      "metadata": {
        "id": "jky-CpfBkuRq"
      },
      "execution_count": 60,
      "outputs": []
    },
    {
      "cell_type": "code",
      "source": [
        "\n",
        "loss_func=nn.MSELoss()\n"
      ],
      "metadata": {
        "id": "VHtAewrwkavS"
      },
      "execution_count": 61,
      "outputs": []
    },
    {
      "cell_type": "code",
      "source": [
        "_Y=mynet(X)\n",
        "loss_value=loss_func(_Y, Y)\n",
        "print(loss_value)"
      ],
      "metadata": {
        "colab": {
          "base_uri": "https://localhost:8080/"
        },
        "id": "cMtusP2xk4Ix",
        "outputId": "54d8538d-cbff-41db-ae5a-d1af6429d555"
      },
      "execution_count": 62,
      "outputs": [
        {
          "output_type": "stream",
          "name": "stdout",
          "text": [
            "tensor(28.4611, device='cuda:0', grad_fn=<MseLossBackward0>)\n"
          ]
        }
      ]
    }
  ]
}