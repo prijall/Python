{
  "nbformat": 4,
  "nbformat_minor": 0,
  "metadata": {
    "colab": {
      "provenance": [],
      "gpuType": "T4",
      "authorship_tag": "ABX9TyPGEhIPM978VMm6XVga+86h"
    },
    "kernelspec": {
      "name": "python3",
      "display_name": "Python 3"
    },
    "language_info": {
      "name": "python"
    },
    "accelerator": "GPU"
  },
  "cells": [
    {
      "cell_type": "code",
      "execution_count": 59,
      "metadata": {
        "id": "r5xdmPDeHQW9"
      },
      "outputs": [],
      "source": [
        "#@ Initializing necessary Dependencies:\n",
        "from torch.utils.data import Dataset, DataLoader\n",
        "import torch\n",
        "from torch import nn"
      ]
    },
    {
      "cell_type": "code",
      "source": [
        "x=[[1, 2], [3, 4], [4, 5], [6, 7]]\n",
        "y=[[8], [9], [10], [11]]\n"
      ],
      "metadata": {
        "id": "LmN2c6fOHY2b"
      },
      "execution_count": 60,
      "outputs": []
    },
    {
      "cell_type": "code",
      "source": [
        "X=torch.tensor(x).float()\n",
        "Y=torch.tensor(y).float()"
      ],
      "metadata": {
        "id": "xyVKWcxDHaEj"
      },
      "execution_count": 61,
      "outputs": []
    },
    {
      "cell_type": "code",
      "source": [
        "device ='cuda' if torch.cuda.is_available() else 'cpu'"
      ],
      "metadata": {
        "id": "u6uDGObrHbtL"
      },
      "execution_count": 62,
      "outputs": []
    },
    {
      "cell_type": "code",
      "source": [
        "X=X.to(device)\n",
        "Y=Y.to(device)"
      ],
      "metadata": {
        "id": "v6nkLZT7HeVc"
      },
      "execution_count": 63,
      "outputs": []
    },
    {
      "cell_type": "code",
      "source": [
        "class MyDataSet(Dataset):\n",
        "  def __init__(self, x, y):\n",
        "    self.x=torch.tensor(x).float()\n",
        "    self.y=torch.tensor(y).float()\n",
        "\n",
        "  #@ for calculating the number of datapoints:\n",
        "  def __len__(self):\n",
        "    return len(self.x)\n",
        "\n",
        "  #@ For fetching speoific row:\n",
        "  def __getitem__(self, ix):     # 'ix' represents the index of the row\n",
        "    return self.x[ix], self.y[ix]"
      ],
      "metadata": {
        "id": "SGsvwEHHHl-j"
      },
      "execution_count": 64,
      "outputs": []
    },
    {
      "cell_type": "code",
      "source": [
        "ds=MyDataSet(X, y)"
      ],
      "metadata": {
        "colab": {
          "base_uri": "https://localhost:8080/"
        },
        "id": "UAdQB-arI9hL",
        "outputId": "c1e66780-bed7-4f85-d6c3-b6e05d144f6e"
      },
      "execution_count": 65,
      "outputs": [
        {
          "output_type": "stream",
          "name": "stderr",
          "text": [
            "<ipython-input-64-76eaa056ebd8>:3: UserWarning: To copy construct from a tensor, it is recommended to use sourceTensor.clone().detach() or sourceTensor.clone().detach().requires_grad_(True), rather than torch.tensor(sourceTensor).\n",
            "  self.x=torch.tensor(x).float()\n"
          ]
        }
      ]
    },
    {
      "cell_type": "code",
      "source": [
        "dl=DataLoader(ds, batch_size=2, shuffle=True)"
      ],
      "metadata": {
        "id": "6WwN-cd0JJxb"
      },
      "execution_count": 66,
      "outputs": []
    },
    {
      "cell_type": "code",
      "source": [
        "for x, y in dl:\n",
        "  print(x, y)"
      ],
      "metadata": {
        "colab": {
          "base_uri": "https://localhost:8080/"
        },
        "id": "MsAorc-6KCJs",
        "outputId": "e6960770-5f81-46d5-fe4d-f32b6009ddc6"
      },
      "execution_count": 67,
      "outputs": [
        {
          "output_type": "stream",
          "name": "stdout",
          "text": [
            "tensor([[4., 5.],\n",
            "        [6., 7.]], device='cuda:0') tensor([[10.],\n",
            "        [11.]])\n",
            "tensor([[3., 4.],\n",
            "        [1., 2.]], device='cuda:0') tensor([[9.],\n",
            "        [8.]])\n"
          ]
        }
      ]
    },
    {
      "cell_type": "code",
      "source": [
        "# #@  Creating Model:\n",
        "\n",
        "# class NeuralNet(nn.Module):\n",
        "#   def __init__(self):\n",
        "#     super().__init__()\n",
        "#     self.inputlayer=nn.Linear(2, 8)\n",
        "#     self.hiddenlayer=nn.ReLU()\n",
        "#     self.outputlayer=nn.Linear(8, 1)\n",
        "\n",
        "#   def forward(self, x):\n",
        "#     hidden1=self.inputlayer(x)\n",
        "#     hidden2=self.hiddenlayer(x)\n",
        "#     output=self.outputlayer(hidden2)\n",
        "#     return output, hidden2\n",
        "\n"
      ],
      "metadata": {
        "id": "j5e9cNihKUmr"
      },
      "execution_count": 68,
      "outputs": []
    },
    {
      "cell_type": "code",
      "source": [
        "model=nn.Sequential(\n",
        "        nn.Linear(2, 8),\n",
        "        nn.ReLU(),\n",
        "        nn.Linear(8, 1)\n",
        ").to(device)"
      ],
      "metadata": {
        "id": "I0HQ60WTQH0r"
      },
      "execution_count": 72,
      "outputs": []
    },
    {
      "cell_type": "code",
      "source": [
        "%pip install torch_summary\n",
        "from torchsummary import summary"
      ],
      "metadata": {
        "colab": {
          "base_uri": "https://localhost:8080/"
        },
        "id": "kOpV4NzSP187",
        "outputId": "de915e2c-f1fd-46fc-ead9-d6487cae12a0"
      },
      "execution_count": 73,
      "outputs": [
        {
          "output_type": "stream",
          "name": "stdout",
          "text": [
            "Requirement already satisfied: torch_summary in /usr/local/lib/python3.10/dist-packages (1.4.5)\n"
          ]
        }
      ]
    },
    {
      "cell_type": "code",
      "source": [
        "summary(model, torch.zeros(1,2));"
      ],
      "metadata": {
        "colab": {
          "base_uri": "https://localhost:8080/"
        },
        "id": "re8S9HjPP7rj",
        "outputId": "7f07d43f-d6de-44b3-a435-a0d60af9a0a0"
      },
      "execution_count": 74,
      "outputs": [
        {
          "output_type": "stream",
          "name": "stdout",
          "text": [
            "==========================================================================================\n",
            "Layer (type:depth-idx)                   Output Shape              Param #\n",
            "==========================================================================================\n",
            "├─Linear: 1-1                            [-1, 8]                   24\n",
            "├─ReLU: 1-2                              [-1, 8]                   --\n",
            "├─Linear: 1-3                            [-1, 1]                   9\n",
            "==========================================================================================\n",
            "Total params: 33\n",
            "Trainable params: 33\n",
            "Non-trainable params: 0\n",
            "Total mult-adds (M): 0.00\n",
            "==========================================================================================\n",
            "Input size (MB): 0.00\n",
            "Forward/backward pass size (MB): 0.00\n",
            "Params size (MB): 0.00\n",
            "Estimated Total Size (MB): 0.00\n",
            "==========================================================================================\n"
          ]
        }
      ]
    },
    {
      "cell_type": "code",
      "source": [
        "loss_function=nn.MSELoss()\n",
        "from torch.optim import SGD\n",
        "opt=SGD(mynet.parameters(), lr=0.01)"
      ],
      "metadata": {
        "id": "TgMzhx4ZLSYL"
      },
      "execution_count": 78,
      "outputs": []
    },
    {
      "cell_type": "code",
      "source": [
        "import time\n",
        "Loss_history=[]\n",
        "start=time.time()\n",
        "for _ in range(50):\n",
        "   for ix, iy in dl:\n",
        "    ix, iy= ix.to(device), iy.to(device)\n",
        "    opt.zero_grad()\n",
        "    loss_value=loss_function(model(ix), iy)\n",
        "    loss_value.backward()\n",
        "    opt.step()\n",
        "    Loss_history.append(loss_value.item())\n",
        "end=time.time()\n",
        "print(end - start)"
      ],
      "metadata": {
        "colab": {
          "base_uri": "https://localhost:8080/"
        },
        "id": "S2Q4B25XMLjr",
        "outputId": "b4c8887e-115d-4c5e-9d0e-f0a8497b5a30"
      },
      "execution_count": 81,
      "outputs": [
        {
          "output_type": "stream",
          "name": "stdout",
          "text": [
            "0.15744328498840332\n"
          ]
        }
      ]
    }
  ]
}