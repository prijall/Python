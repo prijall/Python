{
  "nbformat": 4,
  "nbformat_minor": 0,
  "metadata": {
    "colab": {
      "provenance": [],
      "gpuType": "T4",
      "authorship_tag": "ABX9TyM6W+Zj5+ZfswTYc2J3kiXD"
    },
    "kernelspec": {
      "name": "python3",
      "display_name": "Python 3"
    },
    "language_info": {
      "name": "python"
    },
    "accelerator": "GPU"
  },
  "cells": [
    {
      "cell_type": "code",
      "execution_count": 1,
      "metadata": {
        "id": "r5xdmPDeHQW9"
      },
      "outputs": [],
      "source": [
        "#@ Initializing necessary Dependencies:\n",
        "from torch.utils.data import Dataset, DataLoader\n",
        "import torch\n",
        "from torch import nn"
      ]
    },
    {
      "cell_type": "code",
      "source": [
        "x=[[1, 2], [3, 4], [4, 5], [6, 7]]\n",
        "y=[[8], [9], [10], [11]]\n"
      ],
      "metadata": {
        "id": "LmN2c6fOHY2b"
      },
      "execution_count": 2,
      "outputs": []
    },
    {
      "cell_type": "code",
      "source": [
        "X=torch.tensor(x).float()\n",
        "Y=torch.tensor(y).float()"
      ],
      "metadata": {
        "id": "xyVKWcxDHaEj"
      },
      "execution_count": 3,
      "outputs": []
    },
    {
      "cell_type": "code",
      "source": [
        "device ='cuda' if torch.cuda.is_available() else 'cpu'"
      ],
      "metadata": {
        "id": "u6uDGObrHbtL"
      },
      "execution_count": 4,
      "outputs": []
    },
    {
      "cell_type": "code",
      "source": [
        "X=X.to(device)\n",
        "Y=Y.to(device)"
      ],
      "metadata": {
        "id": "v6nkLZT7HeVc"
      },
      "execution_count": 5,
      "outputs": []
    },
    {
      "cell_type": "code",
      "source": [
        "class MyDataSet(Dataset):\n",
        "  def __init__(self, x, y):\n",
        "    self.x=torch.tensor(x).float()\n",
        "    self.y=torch.tensor(y).float()\n",
        "\n",
        "  #@ for calculating the number of datapoints:\n",
        "  def __len__(self):\n",
        "    return len(self.x)\n",
        "\n",
        "  #@ For fetching speoific row:\n",
        "  def __getitem__(self, ix):     # 'ix' represents the index of the row\n",
        "    return self.x[ix], self.y[ix]"
      ],
      "metadata": {
        "id": "SGsvwEHHHl-j"
      },
      "execution_count": 6,
      "outputs": []
    },
    {
      "cell_type": "code",
      "source": [
        "ds=MyDataSet(X, y)"
      ],
      "metadata": {
        "colab": {
          "base_uri": "https://localhost:8080/"
        },
        "id": "UAdQB-arI9hL",
        "outputId": "71042fd8-d8bb-4f9b-89fa-57b92932d858"
      },
      "execution_count": 7,
      "outputs": [
        {
          "output_type": "stream",
          "name": "stderr",
          "text": [
            "<ipython-input-6-712895d14ae1>:3: UserWarning: To copy construct from a tensor, it is recommended to use sourceTensor.clone().detach() or sourceTensor.clone().detach().requires_grad_(True), rather than torch.tensor(sourceTensor).\n",
            "  self.x=torch.tensor(x).float()\n"
          ]
        }
      ]
    },
    {
      "cell_type": "code",
      "source": [
        "dl=DataLoader(ds, batch_size=2, shuffle=True)"
      ],
      "metadata": {
        "id": "6WwN-cd0JJxb"
      },
      "execution_count": 8,
      "outputs": []
    },
    {
      "cell_type": "code",
      "source": [
        "for x, y in dl:\n",
        "  print(x, y)"
      ],
      "metadata": {
        "colab": {
          "base_uri": "https://localhost:8080/"
        },
        "id": "MsAorc-6KCJs",
        "outputId": "b454266b-c454-4ba1-d9a9-dd4424af45e1"
      },
      "execution_count": 9,
      "outputs": [
        {
          "output_type": "stream",
          "name": "stdout",
          "text": [
            "tensor([[1., 2.],\n",
            "        [4., 5.]], device='cuda:0') tensor([[ 8.],\n",
            "        [10.]])\n",
            "tensor([[6., 7.],\n",
            "        [3., 4.]], device='cuda:0') tensor([[11.],\n",
            "        [ 9.]])\n"
          ]
        }
      ]
    },
    {
      "cell_type": "code",
      "source": [
        "# #@  Creating Model:\n",
        "\n",
        "# class NeuralNet(nn.Module):\n",
        "#   def __init__(self):\n",
        "#     super().__init__()\n",
        "#     self.inputlayer=nn.Linear(2, 8)\n",
        "#     self.hiddenlayer=nn.ReLU()\n",
        "#     self.outputlayer=nn.Linear(8, 1)\n",
        "\n",
        "#   def forward(self, x):\n",
        "#     hidden1=self.inputlayer(x)\n",
        "#     hidden2=self.hiddenlayer(x)\n",
        "#     output=self.outputlayer(hidden2)\n",
        "#     return output, hidden2\n",
        "\n"
      ],
      "metadata": {
        "id": "j5e9cNihKUmr"
      },
      "execution_count": 10,
      "outputs": []
    },
    {
      "cell_type": "code",
      "source": [
        "model=nn.Sequential(\n",
        "        nn.Linear(2, 8),\n",
        "        nn.ReLU(),\n",
        "        nn.Linear(8, 1)\n",
        ").to(device)"
      ],
      "metadata": {
        "id": "I0HQ60WTQH0r"
      },
      "execution_count": 11,
      "outputs": []
    },
    {
      "cell_type": "code",
      "source": [
        "%pip install torch_summary\n",
        "from torchsummary import summary"
      ],
      "metadata": {
        "colab": {
          "base_uri": "https://localhost:8080/"
        },
        "id": "kOpV4NzSP187",
        "outputId": "39253373-b5fd-4aa5-88e4-cae2a7d30ed1"
      },
      "execution_count": 12,
      "outputs": [
        {
          "output_type": "stream",
          "name": "stdout",
          "text": [
            "Collecting torch_summary\n",
            "  Downloading torch_summary-1.4.5-py3-none-any.whl.metadata (18 kB)\n",
            "Downloading torch_summary-1.4.5-py3-none-any.whl (16 kB)\n",
            "Installing collected packages: torch_summary\n",
            "Successfully installed torch_summary-1.4.5\n"
          ]
        }
      ]
    },
    {
      "cell_type": "code",
      "source": [
        "summary(model, torch.zeros(1,2));"
      ],
      "metadata": {
        "colab": {
          "base_uri": "https://localhost:8080/"
        },
        "id": "re8S9HjPP7rj",
        "outputId": "57cd11f7-f7b1-4eeb-e06b-b17ffb94ae76"
      },
      "execution_count": 13,
      "outputs": [
        {
          "output_type": "stream",
          "name": "stdout",
          "text": [
            "==========================================================================================\n",
            "Layer (type:depth-idx)                   Output Shape              Param #\n",
            "==========================================================================================\n",
            "├─Linear: 1-1                            [-1, 8]                   24\n",
            "├─ReLU: 1-2                              [-1, 8]                   --\n",
            "├─Linear: 1-3                            [-1, 1]                   9\n",
            "==========================================================================================\n",
            "Total params: 33\n",
            "Trainable params: 33\n",
            "Non-trainable params: 0\n",
            "Total mult-adds (M): 0.00\n",
            "==========================================================================================\n",
            "Input size (MB): 0.00\n",
            "Forward/backward pass size (MB): 0.00\n",
            "Params size (MB): 0.00\n",
            "Estimated Total Size (MB): 0.00\n",
            "==========================================================================================\n"
          ]
        }
      ]
    },
    {
      "cell_type": "code",
      "source": [
        "loss_function=nn.MSELoss()\n",
        "from torch.optim import SGD\n",
        "opt=SGD(model.parameters(), lr=0.01)"
      ],
      "metadata": {
        "id": "TgMzhx4ZLSYL"
      },
      "execution_count": 15,
      "outputs": []
    },
    {
      "cell_type": "code",
      "source": [
        "import time\n",
        "Loss_history=[]\n",
        "start=time.time()\n",
        "for _ in range(50):\n",
        "   for ix, iy in dl:\n",
        "    ix, iy= ix.to(device), iy.to(device)\n",
        "    opt.zero_grad()\n",
        "    loss_value=loss_function(model(ix), iy)\n",
        "    loss_value.backward()\n",
        "    opt.step()\n",
        "    Loss_history.append(loss_value.item())\n",
        "end=time.time()\n",
        "print(end - start)"
      ],
      "metadata": {
        "colab": {
          "base_uri": "https://localhost:8080/"
        },
        "id": "S2Q4B25XMLjr",
        "outputId": "da7205b2-1a19-47ce-e56f-317c4cd9c2b3"
      },
      "execution_count": 16,
      "outputs": [
        {
          "output_type": "stream",
          "name": "stdout",
          "text": [
            "0.4945359230041504\n"
          ]
        }
      ]
    },
    {
      "cell_type": "code",
      "source": [
        "#@ Validation set:\n",
        "\n",
        "valid=[[8, 9], [10, 11], [1.5, 3.6]]"
      ],
      "metadata": {
        "id": "f_p_5PAy2lFI"
      },
      "execution_count": 17,
      "outputs": []
    },
    {
      "cell_type": "code",
      "source": [
        "model(torch.tensor(valid).float().to(device))"
      ],
      "metadata": {
        "colab": {
          "base_uri": "https://localhost:8080/"
        },
        "id": "-jnF2mXc21ov",
        "outputId": "65922247-f496-4906-e88c-c2f2eeaf48c0"
      },
      "execution_count": 18,
      "outputs": [
        {
          "output_type": "execute_result",
          "data": {
            "text/plain": [
              "tensor([[14.3655],\n",
              "        [16.5258],\n",
              "        [ 9.3130]], device='cuda:0', grad_fn=<AddmmBackward0>)"
            ]
          },
          "metadata": {},
          "execution_count": 18
        }
      ]
    },
    {
      "cell_type": "code",
      "source": [
        "#@ Saving the model:\n",
        "torch.save(model.to('cpu').state_dict(), 'mymodel.pth')"
      ],
      "metadata": {
        "id": "b8Jt0OtD3iO_"
      },
      "execution_count": 20,
      "outputs": []
    },
    {
      "cell_type": "code",
      "source": [
        "#@ Loading the model:\n",
        "   # creating an empty model as loading model requires to initialize\n",
        "   # the model with random weights first and then load\n",
        "   # the weights from state_dict\n",
        "\n",
        "model=nn.Sequential(\n",
        "               nn.Linear(2, 8),\n",
        "               nn.ReLU(),\n",
        "               nn.Linear(8, 1)\n",
        ").to(device)"
      ],
      "metadata": {
        "id": "oCdXHiPi4AMP"
      },
      "execution_count": 22,
      "outputs": []
    },
    {
      "cell_type": "code",
      "source": [
        "state_dict=torch.load('mymodel.pth')"
      ],
      "metadata": {
        "id": "R80dR3EW43YI"
      },
      "execution_count": 24,
      "outputs": []
    },
    {
      "cell_type": "code",
      "source": [
        "model.load_state_dict(state_dict)\n",
        "model.to(device)\n",
        "model(torch.tensor(valid).float().to(device))"
      ],
      "metadata": {
        "colab": {
          "base_uri": "https://localhost:8080/"
        },
        "id": "BzQj6pWw5GMv",
        "outputId": "65f21129-4d31-4c32-865d-7e977faf0ed1"
      },
      "execution_count": 26,
      "outputs": [
        {
          "output_type": "execute_result",
          "data": {
            "text/plain": [
              "tensor([[14.3655],\n",
              "        [16.5258],\n",
              "        [ 9.3130]], device='cuda:0', grad_fn=<AddmmBackward0>)"
            ]
          },
          "metadata": {},
          "execution_count": 26
        }
      ]
    }
  ]
}