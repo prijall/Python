{
 "cells": [
  {
   "cell_type": "markdown",
   "metadata": {},
   "source": [
    "- to find the url in sentences:B"
   ]
  },
  {
   "cell_type": "code",
   "execution_count": 12,
   "metadata": {},
   "outputs": [],
   "source": [
    "import re"
   ]
  },
  {
   "cell_type": "code",
   "execution_count": 13,
   "metadata": {},
   "outputs": [
    {
     "data": {
      "text/plain": [
       "'https://www.apple.com/'"
      ]
     },
     "execution_count": 13,
     "metadata": {},
     "output_type": "execute_result"
    }
   ],
   "source": [
    "def find_url(string):\n",
    "    text=re.findall(r'http[s]?://(?:[a-zA-Z0-9$-_@.&+!*(),]|(?:%[0-9a-fA-F][0-9a-fA-F]))+', string)\n",
    "\n",
    "    # conversion of return value from list to string\n",
    "    return \"\".join(text)\n",
    "\n",
    "example=\"i love spending time at https://www.apple.com/\"\n",
    "find_url(example)"
   ]
  },
  {
   "cell_type": "markdown",
   "metadata": {},
   "source": [
    "### For email id"
   ]
  },
  {
   "cell_type": "code",
   "execution_count": 14,
   "metadata": {},
   "outputs": [
    {
     "data": {
      "text/plain": [
       "'prijalee@gmail.com,khadkaprijal@gmail.com,khadkaprijal876@gmail.com'"
      ]
     },
     "execution_count": 14,
     "metadata": {},
     "output_type": "execute_result"
    }
   ],
   "source": [
    "def findEmail(text):\n",
    "    line=re.findall(r'[\\w.-]+@[\\w.-]+', str(text))\n",
    "    return \",\".join(line)\n",
    "\n",
    "example='Prjal has 3 emails, for personal use prijalee@gmail.com, for professional use khadkaprijal@gmail.com and for general purposer khadkaprijal876@gmail.com'\n",
    "findEmail(example)"
   ]
  },
  {
   "cell_type": "markdown",
   "metadata": {},
   "source": [
    "#### removes the repetative characters:"
   ]
  },
  {
   "cell_type": "code",
   "execution_count": 15,
   "metadata": {},
   "outputs": [
    {
     "data": {
      "text/plain": [
       "'hey this is a very long text'"
      ]
     },
     "execution_count": 15,
     "metadata": {},
     "output_type": "execute_result"
    }
   ],
   "source": [
    "def rep(text):\n",
    "    grp=text.group(0)\n",
    "    if len(grp)>1:\n",
    "        return grp[0]\n",
    "    return grp\n",
    "    \n",
    "def unique_char(sentence):\n",
    "    convert=re.sub(r'(.)\\1+', rep, sentence)\n",
    "    return convert\n",
    "\n",
    "example='heyyyy this is a veryyyyyyyy loooongggg texxxtttttt'\n",
    "unique_char(example)"
   ]
  }
 ],
 "metadata": {
  "kernelspec": {
   "display_name": "Python 3",
   "language": "python",
   "name": "python3"
  },
  "language_info": {
   "codemirror_mode": {
    "name": "ipython",
    "version": 3
   },
   "file_extension": ".py",
   "mimetype": "text/x-python",
   "name": "python",
   "nbconvert_exporter": "python",
   "pygments_lexer": "ipython3",
   "version": "3.12.0"
  }
 },
 "nbformat": 4,
 "nbformat_minor": 2
}
