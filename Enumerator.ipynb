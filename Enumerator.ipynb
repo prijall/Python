{
 "cells": [
  {
   "cell_type": "code",
   "execution_count": 12,
   "metadata": {},
   "outputs": [
    {
     "name": "stdout",
     "output_type": "stream",
     "text": [
      "audi\n"
     ]
    }
   ],
   "source": [
    "cars=['volvo', 'bmw', 'mercedes', 'audi', 'ford', 'lambo']\n",
    "\n",
    "for car in cars:\n",
    "    if car=='audi':\n",
    "     print(car)\n"
   ]
  },
  {
   "cell_type": "code",
   "execution_count": 14,
   "metadata": {},
   "outputs": [
    {
     "name": "stdout",
     "output_type": "stream",
     "text": [
      "volvo\n",
      "bmw\n",
      "mercedes\n",
      "audi\n",
      "This is an american company\n",
      "ford\n",
      "lambo\n"
     ]
    }
   ],
   "source": [
    "index = 0\n",
    "for car in cars:\n",
    "    print(car)\n",
    "    if (index==3):\n",
    "      print('This is an american company')\n",
    "    index+=1\n",
    "      "
   ]
  },
  {
   "cell_type": "code",
   "execution_count": 15,
   "metadata": {},
   "outputs": [
    {
     "name": "stdout",
     "output_type": "stream",
     "text": [
      "volvo\n",
      "bmw\n",
      "mercedes\n",
      "audi\n",
      "This is american company\n",
      "ford\n",
      "lambo\n"
     ]
    }
   ],
   "source": [
    "for index, car in enumerate(cars):\n",
    "    print(car)\n",
    "    if (index==3):\n",
    "        print('This is american company')"
   ]
  },
  {
   "cell_type": "markdown",
   "metadata": {},
   "source": [
    "### More example of enumerator"
   ]
  },
  {
   "cell_type": "code",
   "execution_count": 19,
   "metadata": {},
   "outputs": [
    {
     "name": "stdout",
     "output_type": "stream",
     "text": [
      "1 volvo\n",
      "2 bmw\n",
      "3 mercedes\n",
      "4 audi\n",
      "5 ford\n",
      "6 lambo\n"
     ]
    }
   ],
   "source": [
    "\n",
    "\n",
    "for index, car in enumerate(cars, start=1):\n",
    "    print(index, car)"
   ]
  }
 ],
 "metadata": {
  "kernelspec": {
   "display_name": "Python 3",
   "language": "python",
   "name": "python3"
  },
  "language_info": {
   "codemirror_mode": {
    "name": "ipython",
    "version": 3
   },
   "file_extension": ".py",
   "mimetype": "text/x-python",
   "name": "python",
   "nbconvert_exporter": "python",
   "pygments_lexer": "ipython3",
   "version": "3.12.0"
  }
 },
 "nbformat": 4,
 "nbformat_minor": 2
}
