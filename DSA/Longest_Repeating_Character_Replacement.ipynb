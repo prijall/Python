{
 "cells": [
  {
   "cell_type": "markdown",
   "id": "2f8e9b22",
   "metadata": {},
   "source": [
    "- We will be using sliding window algo as it will help us to get the valid substring through window rather than checking every character(brute force)\n",
    "- initialize l pointer and set r pointer to variable window expander\n",
    "- use the hashmap to store the freqeuncy of chars\n",
    "- the main condition is len of win - max frequency <= k for the window to be valid, if this condition is true then we can store it in result else not\n",
    "- initialize variable for maximum frequency\n",
    "- get max freq by comparing the max freq to the count of present char pointed by r pointer\n",
    "- now check condition for valid window\n",
    "- if the window is invalid, decrement of the char pointed by l pointer as it is being removed from the window\n",
    "- increment of l pointer for new window \n",
    "- initialize variable for result\n",
    "- update result to current window size\n",
    "- return result"
   ]
  },
  {
   "cell_type": "code",
   "execution_count": 7,
   "id": "59b6186d",
   "metadata": {},
   "outputs": [],
   "source": [
    "class Solution:\n",
    "    def longestrepcharReplacement(self, s:str, k:int)->int:\n",
    "        l=0\n",
    "        count={}\n",
    "        max_freq=0\n",
    "        result=0\n",
    "        for r in range(len(s)):\n",
    "            count[s[r]]=count.get(s[r], 0) + 1\n",
    "            max_freq=max(max_freq, count[s[r]])\n",
    "\n",
    "            if (r-l+1) - max_freq > k:\n",
    "                count[s[l]]-=1\n",
    "                l+=1\n",
    "            result=max(result, r-l+1)\n",
    "        return result"
   ]
  },
  {
   "cell_type": "code",
   "execution_count": 8,
   "id": "887e01aa",
   "metadata": {},
   "outputs": [
    {
     "data": {
      "text/plain": [
       "4"
      ]
     },
     "execution_count": 8,
     "metadata": {},
     "output_type": "execute_result"
    }
   ],
   "source": [
    "s=Solution()\n",
    "s.longestrepcharReplacement(s='ABBA', k=2)"
   ]
  },
  {
   "cell_type": "markdown",
   "id": "fc694b5b",
   "metadata": {},
   "source": [
    "- Time Complexity: O(n) where n is the len of the string\n",
    "- Space Complexity: O(m) where m is total no of unique character in string "
   ]
  }
 ],
 "metadata": {
  "kernelspec": {
   "display_name": "Python 3",
   "language": "python",
   "name": "python3"
  },
  "language_info": {
   "codemirror_mode": {
    "name": "ipython",
    "version": 3
   },
   "file_extension": ".py",
   "mimetype": "text/x-python",
   "name": "python",
   "nbconvert_exporter": "python",
   "pygments_lexer": "ipython3",
   "version": "3.12.0"
  }
 },
 "nbformat": 4,
 "nbformat_minor": 5
}
