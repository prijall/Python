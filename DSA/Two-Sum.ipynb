{
 "cells": [
  {
   "cell_type": "code",
   "execution_count": 3,
   "metadata": {},
   "outputs": [],
   "source": [
    "class Solution1:\n",
    "    def TwoSum(self, nums:list[int], target:int)->list[int]:\n",
    "        n=len(nums)\n",
    "        for i in range(n-1):  # outerloop from first to last-second element\n",
    "            for j in range(i+1, n):  # inner-loop from second to last element\n",
    "                if nums[i] + nums[j] == target:\n",
    "                    return [i, j]\n",
    "                \n",
    "        return []\n"
   ]
  },
  {
   "cell_type": "code",
   "execution_count": 4,
   "metadata": {},
   "outputs": [
    {
     "data": {
      "text/plain": [
       "[0, 6]"
      ]
     },
     "execution_count": 4,
     "metadata": {},
     "output_type": "execute_result"
    }
   ],
   "source": [
    "s=Solution1()\n",
    "s.TwoSum(nums=[1, 2, 3, 4, 5, 6, 7, 8, 9], target=8)"
   ]
  },
  {
   "cell_type": "markdown",
   "metadata": {},
   "source": [
    "## Most Optimized way:"
   ]
  },
  {
   "cell_type": "code",
   "execution_count": 5,
   "metadata": {},
   "outputs": [],
   "source": [
    "class Solution:\n",
    "    def twosum(self, nums:list[int], target:int)->list[int]:\n",
    "\n",
    "        #creating hash map\n",
    "        hasmap={} #value, index\n",
    "        \n",
    "        for i, n in enumerate(nums):\n",
    "            diff=target-n\n",
    "            if diff in hasmap:\n",
    "                return [hasmap[diff], i]\n",
    "            hasmap[n]=i\n"
   ]
  },
  {
   "cell_type": "code",
   "execution_count": 6,
   "metadata": {},
   "outputs": [
    {
     "name": "stdout",
     "output_type": "stream",
     "text": [
      "[1, 3]\n"
     ]
    }
   ],
   "source": [
    "s=Solution()\n",
    "print(s.twosum(nums=[1,2 ,3, 4, 5, 6], target=6))"
   ]
  },
  {
   "cell_type": "markdown",
   "metadata": {},
   "source": [
    "- time complexity=O(n)\n",
    "- space complexity = O(n)"
   ]
  }
 ],
 "metadata": {
  "kernelspec": {
   "display_name": "Python 3",
   "language": "python",
   "name": "python3"
  },
  "language_info": {
   "codemirror_mode": {
    "name": "ipython",
    "version": 3
   },
   "file_extension": ".py",
   "mimetype": "text/x-python",
   "name": "python",
   "nbconvert_exporter": "python",
   "pygments_lexer": "ipython3",
   "version": "3.12.0"
  }
 },
 "nbformat": 4,
 "nbformat_minor": 2
}
