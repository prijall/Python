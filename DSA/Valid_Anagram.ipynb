{
 "cells": [
  {
   "cell_type": "markdown",
   "metadata": {},
   "source": [
    "### Checking if two strings ar valid anagram or not, if yes then return true and if no then return false"
   ]
  },
  {
   "cell_type": "markdown",
   "metadata": {},
   "source": [
    "#### Proof of concept:\n",
    " - what is anagram? \n",
    " those words which are same in numbers and have same alphabet with equal frequency. \n",
    " for example;\n",
    " a='anagram' and b='nagaram'"
   ]
  },
  {
   "cell_type": "markdown",
   "metadata": {},
   "source": [
    "### Conditions:\n",
    "- length of a = length of b\n",
    "- keys should be same\n",
    "- frequency of value should be same"
   ]
  },
  {
   "cell_type": "code",
   "execution_count": 4,
   "metadata": {},
   "outputs": [],
   "source": [
    "class Solution:\n",
    "    def validAnagram(self, a:str, b:str)->bool:\n",
    "        if len(a) != len(b):\n",
    "            return False\n",
    "            \n",
    "        count = {}#memory(hash map) to track character counts\n",
    "        \n",
    "        #count the frequency for string 'a'\n",
    "        for char in a:\n",
    "            count[char]= count.get(char, 0) + 1\n",
    "        \n",
    "        # subtract the frequencies using string 'b'\n",
    "        for char in b:\n",
    "            if char not in count or count[char]==0:\n",
    "                return False\n",
    "            count[char] -= 1\n",
    "\n",
    "        return all(value == 0 for value in count.values())\n",
    "        \n",
    "        \n",
    "    \n"
   ]
  },
  {
   "cell_type": "code",
   "execution_count": 7,
   "metadata": {},
   "outputs": [
    {
     "data": {
      "text/plain": [
       "False"
      ]
     },
     "execution_count": 7,
     "metadata": {},
     "output_type": "execute_result"
    }
   ],
   "source": [
    "s=Solution()\n",
    "s.validAnagram(a='anagggram', b='gnapgaramg')"
   ]
  },
  {
   "cell_type": "code",
   "execution_count": 8,
   "metadata": {},
   "outputs": [
    {
     "data": {
      "text/plain": [
       "True"
      ]
     },
     "execution_count": 8,
     "metadata": {},
     "output_type": "execute_result"
    }
   ],
   "source": [
    "s=Solution()\n",
    "s.validAnagram(a='siilentt', b='liistten')"
   ]
  }
 ],
 "metadata": {
  "kernelspec": {
   "display_name": "Python 3",
   "language": "python",
   "name": "python3"
  },
  "language_info": {
   "codemirror_mode": {
    "name": "ipython",
    "version": 3
   },
   "file_extension": ".py",
   "mimetype": "text/x-python",
   "name": "python",
   "nbconvert_exporter": "python",
   "pygments_lexer": "ipython3",
   "version": "3.12.0"
  }
 },
 "nbformat": 4,
 "nbformat_minor": 2
}
