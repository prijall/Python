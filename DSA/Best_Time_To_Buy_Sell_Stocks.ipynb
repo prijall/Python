{
 "cells": [
  {
   "cell_type": "markdown",
   "id": "f7090269",
   "metadata": {},
   "source": [
    "- set the left pointer to 0 and right pointer to l+1 as we are solving using variable sliding window\n",
    "- define a variable to store max profits\n",
    "- run the loop i.e we will expand our window to check for the correct answer which is done by incremental of r pointer. if not found then we start contracting the window which is done by incremental of left pointer. But contraction only happens after expanding.\n",
    "- check if buying is less than selling(here l pointer always refers to buying while r pointer refers to selling  as the time varies from left to right)\n",
    "- if true then set the result to the max profit variable\n",
    "- else increment of left pointer(which means l=r)\n",
    "- increment of r pointer for expanding \n",
    "- return max profit"
   ]
  },
  {
   "cell_type": "code",
   "execution_count": 3,
   "id": "3ad5e3f8",
   "metadata": {},
   "outputs": [],
   "source": [
    "class Solution:\n",
    "    def buysellStock(self, prices:list[int])->int:\n",
    "        l=0\n",
    "        r=l+1\n",
    "        max_profit=0\n",
    "\n",
    "        while r<len(prices):\n",
    "            if prices[l]<prices[r]:\n",
    "                profit=prices[r]-prices[l]\n",
    "                max_profit=max(max_profit, profit)\n",
    "            else:\n",
    "                l+=1\n",
    "            r+=1\n",
    "        return max_profit"
   ]
  },
  {
   "cell_type": "code",
   "execution_count": 4,
   "id": "160fe4f7",
   "metadata": {},
   "outputs": [
    {
     "data": {
      "text/plain": [
       "6"
      ]
     },
     "execution_count": 4,
     "metadata": {},
     "output_type": "execute_result"
    }
   ],
   "source": [
    "s=Solution()\n",
    "s.buysellStock(prices = [10,1,5,6,7,1])"
   ]
  },
  {
   "cell_type": "markdown",
   "id": "c30a6750",
   "metadata": {},
   "source": [
    "- Time Complexity: O(n)\n",
    "- Space Complexity: O(1)"
   ]
  }
 ],
 "metadata": {
  "kernelspec": {
   "display_name": "Python 3",
   "language": "python",
   "name": "python3"
  },
  "language_info": {
   "codemirror_mode": {
    "name": "ipython",
    "version": 3
   },
   "file_extension": ".py",
   "mimetype": "text/x-python",
   "name": "python",
   "nbconvert_exporter": "python",
   "pygments_lexer": "ipython3",
   "version": "3.12.0"
  }
 },
 "nbformat": 4,
 "nbformat_minor": 5
}
