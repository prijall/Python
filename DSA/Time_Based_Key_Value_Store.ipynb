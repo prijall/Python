{
 "cells": [
  {
   "cell_type": "markdown",
   "id": "6f09a287",
   "metadata": {},
   "source": [
    "- initialize a constructor and create a hashmap which stores key-val pair i.e key:[val, timestamp]\n",
    "- initialize set function which set key and value in hashmap. \n",
    "- Check if key exist in the hashmap or not if not create one.\n",
    "- append val and timestamp to key in the store\n",
    "- initialize get function and create a result variable for storing string result\n",
    "- get key from the hashmap using get() and store it in value variable\n",
    "- set left and right pointer\n",
    "- use while loop l<=r. '=' because we want to check every options\n",
    "- calculate mid using formula\n",
    "- if mid's timestamp is less or equal to that of get func timestamp then assign the val of that timestamp to result\n",
    "- increment of l = mid + 1 because there might be closer timestamp to given timestamp. For eg, if targeted timestamp is 5 and mid's timestamp is 3 then the condition is satisfied but according to the question we have to find the lesser close val so we do l=mid + 1 to check if timestamp 4 exists or not\n",
    "- else decrement of r= mid - 1 as our mid's timestamp shouldn't be greater than targeted timestamp\n",
    "- return result\n"
   ]
  },
  {
   "cell_type": "code",
   "execution_count": 1,
   "id": "60e182d7",
   "metadata": {},
   "outputs": [],
   "source": [
    "class Solution:\n",
    "    def __init__(self):\n",
    "        self.store={} #key:[val, timestamp]\n",
    "\n",
    "    def set(self, key:str, val:str, timestamp:int)->None:\n",
    "        if key not in self.store:\n",
    "            self.store[key]=[]\n",
    "        self.store[key].append([val, timestamp])\n",
    "\n",
    "    def get(self, key:str, timestamp:int)->str:\n",
    "        res=''\n",
    "        value=self.store.get(key, [])\n",
    "\n",
    "        l, r= 0, len(value)-1\n",
    "\n",
    "        while l<=r:\n",
    "            mid = l + (r-l)//2\n",
    "\n",
    "            if self.store[mid][1]<=timestamp:\n",
    "                res=self.store[mid][0]\n",
    "                l= mid + 1\n",
    "            else:\n",
    "                r=mid - 1\n",
    "        return res"
   ]
  },
  {
   "cell_type": "markdown",
   "id": "9d6608d3",
   "metadata": {},
   "source": [
    "- Time Complexity: O(1) for set() due to hashing and O(logn) for get() due to binary searching\n",
    "- Space Complexity: O(m*n) where m is the number of values([val, timestamp]) and n is the number of key"
   ]
  }
 ],
 "metadata": {
  "kernelspec": {
   "display_name": "Python 3",
   "language": "python",
   "name": "python3"
  },
  "language_info": {
   "codemirror_mode": {
    "name": "ipython",
    "version": 3
   },
   "file_extension": ".py",
   "mimetype": "text/x-python",
   "name": "python",
   "nbconvert_exporter": "python",
   "pygments_lexer": "ipython3",
   "version": "3.12.0"
  }
 },
 "nbformat": 4,
 "nbformat_minor": 5
}
