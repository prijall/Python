{
 "cells": [
  {
   "cell_type": "markdown",
   "id": "c55f7672",
   "metadata": {},
   "source": [
    "- initialize a pointer i to 0, variable to store the no of digit substring and len of the string\n",
    "- iterate through all the characters in string\n",
    "- check if the char[i] is digit using isdigit(). if yes we will continue else increment of i pointer\n",
    "- In case of true, set that pointer to start which remarks the start of digit.\n",
    "- again iterate through whole string from that pointer untill the digit ends\n",
    "- once the digit ends, set the end pointer\n",
    "- make sure that digit substring is not starting at zero val or ending at last\n",
    "- if the above condn is true then check is str[start-1] is lowervalue alphabet and str[end+1] is lowervalue alphabet\n",
    "- if true increase variable value\n",
    "- return variable"
   ]
  },
  {
   "cell_type": "code",
   "execution_count": 4,
   "id": "2c7468a5",
   "metadata": {},
   "outputs": [],
   "source": [
    "class Solution:\n",
    "    def finDigi(self, strs:str)->int:\n",
    "        count=0\n",
    "        i=0\n",
    "        n=len(strs)\n",
    "\n",
    "        while i<n:\n",
    "            if strs[i].isdigit():\n",
    "                start=i\n",
    "\n",
    "                while i<n and strs[i].isdigit():\n",
    "                    i+=1\n",
    "                end=i-1\n",
    "\n",
    "                if start>0 and end<n-1:\n",
    "                    if strs[start-1].islower() and strs[end+1].islower():\n",
    "                        count+=1\n",
    "            else:\n",
    "                i+=1\n",
    "\n",
    "        return count"
   ]
  },
  {
   "cell_type": "code",
   "execution_count": 5,
   "id": "0419adb8",
   "metadata": {},
   "outputs": [
    {
     "data": {
      "text/plain": [
       "2"
      ]
     },
     "execution_count": 5,
     "metadata": {},
     "output_type": "execute_result"
    }
   ],
   "source": [
    "s=Solution()\n",
    "s.finDigi(strs='ab456cd78ef')"
   ]
  },
  {
   "cell_type": "markdown",
   "id": "0834df1a",
   "metadata": {},
   "source": [
    "- Time Complexity: O(n) where n  is the len of strs\n",
    "- Space Complexity: O(1) "
   ]
  },
  {
   "cell_type": "code",
   "execution_count": null,
   "id": "9cfb7a7d",
   "metadata": {},
   "outputs": [],
   "source": []
  }
 ],
 "metadata": {
  "kernelspec": {
   "display_name": "Python 3",
   "language": "python",
   "name": "python3"
  },
  "language_info": {
   "codemirror_mode": {
    "name": "ipython",
    "version": 3
   },
   "file_extension": ".py",
   "mimetype": "text/x-python",
   "name": "python",
   "nbconvert_exporter": "python",
   "pygments_lexer": "ipython3",
   "version": "3.12.0"
  }
 },
 "nbformat": 4,
 "nbformat_minor": 5
}
