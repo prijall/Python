{
  "metadata": {
    "kernelspec": {
      "name": "python",
      "display_name": "Python (Pyodide)",
      "language": "python"
    },
    "language_info": {
      "codemirror_mode": {
        "name": "python",
        "version": 3
      },
      "file_extension": ".py",
      "mimetype": "text/x-python",
      "name": "python",
      "nbconvert_exporter": "python",
      "pygments_lexer": "ipython3",
      "version": "3.8"
    }
  },
  "nbformat_minor": 5,
  "nbformat": 4,
  "cells": [
    {
      "id": "8446f4a0-9726-46cc-841b-6e2422c69098",
      "cell_type": "code",
      "source": "class Solution:\n    def car_fleet(self, pos:list[int], speed:list[int], target)->int:\n        pair=[(p, s) for p, s in zip(pos, speed)]\n        stack=[]\n        \n        for p, s in sorted(pair, reverse=True):\n            stack.append((target-p)/s)\n\n            if len(stack)>=2 and stack[-1]<=stack[-2]: #if is used instead of while because we compare each car to one fleet ahead of it not multiple fleet\n                stack.pop()\n        return len(stack)\n            ",
      "metadata": {
        "trusted": true
      },
      "outputs": [],
      "execution_count": 3
    },
    {
      "id": "97942b85-1aaa-448a-8271-a44f6ce17bfe",
      "cell_type": "code",
      "source": "s=Solution()\ns.car_fleet( target = 10, pos = [1,4], speed = [3,2])",
      "metadata": {
        "trusted": true
      },
      "outputs": [
        {
          "execution_count": 4,
          "output_type": "execute_result",
          "data": {
            "text/plain": "1"
          },
          "metadata": {}
        }
      ],
      "execution_count": 4
    },
    {
      "id": "1ffd6c14-6be5-4784-b034-1765b8c56f2a",
      "cell_type": "code",
      "source": "s.car_fleet( target = 10, pos = [4,1,0,7], speed = [2,2,1,1])",
      "metadata": {
        "trusted": true
      },
      "outputs": [
        {
          "execution_count": 6,
          "output_type": "execute_result",
          "data": {
            "text/plain": "3"
          },
          "metadata": {}
        }
      ],
      "execution_count": 6
    },
    {
      "id": "34481a1c-f524-4483-bb6b-a670c9efae87",
      "cell_type": "markdown",
      "source": "- Time complexity=O(nlogn) #due to sorting\n- Space complexity= O(n) #due to creation of stack",
      "metadata": {}
    }
  ]
}