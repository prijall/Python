{
 "cells": [
  {
   "cell_type": "markdown",
   "id": "65ec4647",
   "metadata": {},
   "source": [
    "- Setup both the left and right pointer. Here left pointer is max of the  weights because that is the weight we have to carry tho we need more weights and right pointer is the sum of the weights because it the maximum weights we can carry(highest val)\n",
    "- calculate capacity using mid formula\n",
    "- check if on that capacity if all the packages can be ship within D days\n",
    "- if yes, set result to that capacity and set r=cap-1 because we have to find the least capacity\n",
    "- else l=cap+1\n",
    "- return result\n",
    "\n",
    "###### Catch:\n",
    "- build helper function to see if it can ship all the packages within D days on that capacity\n",
    "- set 1 ship and current capacity as the capacity\n",
    "- now check for each weights if it can fit in that capacity(current capacity- weights) if less than 0(in that capacity all the weights cannot be shiped in 1 ship) then add no of ships.\n",
    "- set the capacity of the new ship to current capacity\n",
    "- Remember no of ships can be greater than D(return false if greater)\n",
    "- if (current capacity - weights) not less than 0 then our function (current capacity-p) and returns true"
   ]
  },
  {
   "cell_type": "code",
   "execution_count": 6,
   "id": "efedac13",
   "metadata": {},
   "outputs": [],
   "source": [
    "class Solution:\n",
    "    def ship(self, weights:list[int], days:int)->int:\n",
    "        l, r =max(weights), sum(weights)\n",
    "        res=r\n",
    "\n",
    "        def canShip(cap):\n",
    "            ships, current_capacity=1, cap\n",
    "            for w in weights:\n",
    "                if (current_capacity-w)<0:\n",
    "                    ships+=1\n",
    "\n",
    "                    if ships>days:\n",
    "                        return False\n",
    "                    \n",
    "                    current_capacity=cap\n",
    "                current_capacity-=w\n",
    "\n",
    "            return True\n",
    "\n",
    "        while l<=r:\n",
    "            cap=l+(r-l)//2\n",
    "\n",
    "            if canShip(cap):\n",
    "                res=min(res, cap)\n",
    "                r=cap-1\n",
    "            else:\n",
    "                l=cap+1\n",
    "        return res"
   ]
  },
  {
   "cell_type": "code",
   "execution_count": 7,
   "id": "cd3b0cb9",
   "metadata": {},
   "outputs": [
    {
     "data": {
      "text/plain": [
       "15"
      ]
     },
     "execution_count": 7,
     "metadata": {},
     "output_type": "execute_result"
    }
   ],
   "source": [
    "s=Solution()\n",
    "s.ship(weights = [1,2,3,4,5,6,7,8,9,10], days = 5)"
   ]
  },
  {
   "cell_type": "markdown",
   "id": "e812136c",
   "metadata": {},
   "source": [
    "- Time Complexity: O(n*logm) where  n is the number of capacity search and M is the sum of all the weights which is the max val we look for.\n",
    "- Space Complexity: O(1)"
   ]
  }
 ],
 "metadata": {
  "kernelspec": {
   "display_name": "Python 3",
   "language": "python",
   "name": "python3"
  },
  "language_info": {
   "codemirror_mode": {
    "name": "ipython",
    "version": 3
   },
   "file_extension": ".py",
   "mimetype": "text/x-python",
   "name": "python",
   "nbconvert_exporter": "python",
   "pygments_lexer": "ipython3",
   "version": "3.12.0"
  }
 },
 "nbformat": 4,
 "nbformat_minor": 5
}
