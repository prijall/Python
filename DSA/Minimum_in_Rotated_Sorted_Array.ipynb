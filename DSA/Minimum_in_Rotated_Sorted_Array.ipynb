{
 "cells": [
  {
   "cell_type": "markdown",
   "id": "1d6ea107",
   "metadata": {},
   "source": [
    "## Algo:\n",
    "- set both left and right pointer\n",
    "- check if array is rotated or not \n",
    "- calculate mid point\n",
    "- if nums[mid]>= nums[left] then our candidate val is likely in right part so left=mid+1\n",
    "- else set right = mid (because our candidate val is in left part)\n",
    "- return val i.e nums[l] as we are searching for minimum val\n",
    "- if we want to return value then l<r\n",
    "- else we want to return index then l<=r"
   ]
  },
  {
   "cell_type": "code",
   "execution_count": 7,
   "id": "d0ccf677",
   "metadata": {},
   "outputs": [],
   "source": [
    "class Solution:\n",
    "    def rotatedarray(self, nums:list[int])->int:\n",
    "        l, r= 0, len(nums)-1\n",
    "\n",
    "        if nums[l]<=nums[r]:\n",
    "            return nums[l]\n",
    "        \n",
    "        while l<r:\n",
    "            mid=l+ (r-l)//2\n",
    "\n",
    "            if nums[mid]>=nums[l]:\n",
    "                l=mid + 1\n",
    "            else:\n",
    "                r=mid\n",
    "\n",
    "        return nums[l]"
   ]
  },
  {
   "cell_type": "code",
   "execution_count": 8,
   "id": "79f7bea0",
   "metadata": {},
   "outputs": [
    {
     "data": {
      "text/plain": [
       "1"
      ]
     },
     "execution_count": 8,
     "metadata": {},
     "output_type": "execute_result"
    }
   ],
   "source": [
    "s=Solution()\n",
    "s.rotatedarray( nums = [3,4,5,6,1,2])"
   ]
  },
  {
   "cell_type": "code",
   "execution_count": 9,
   "id": "35a70b1a",
   "metadata": {},
   "outputs": [
    {
     "data": {
      "text/plain": [
       "0"
      ]
     },
     "execution_count": 9,
     "metadata": {},
     "output_type": "execute_result"
    }
   ],
   "source": [
    "s=Solution()\n",
    "s.rotatedarray(nums = [4,5,0,1,2,3])"
   ]
  },
  {
   "cell_type": "code",
   "execution_count": 10,
   "id": "a91abe89",
   "metadata": {},
   "outputs": [
    {
     "data": {
      "text/plain": [
       "4"
      ]
     },
     "execution_count": 10,
     "metadata": {},
     "output_type": "execute_result"
    }
   ],
   "source": [
    "s=Solution()\n",
    "s.rotatedarray(nums = [4,5,6,7])"
   ]
  },
  {
   "cell_type": "markdown",
   "id": "8e0ab30f",
   "metadata": {},
   "source": [
    "- time complexity: O(logn) where n is the number of elements\n",
    "- space complexity: O(1)"
   ]
  }
 ],
 "metadata": {
  "kernelspec": {
   "display_name": "Python 3",
   "language": "python",
   "name": "python3"
  },
  "language_info": {
   "codemirror_mode": {
    "name": "ipython",
    "version": 3
   },
   "file_extension": ".py",
   "mimetype": "text/x-python",
   "name": "python",
   "nbconvert_exporter": "python",
   "pygments_lexer": "ipython3",
   "version": "3.12.0"
  }
 },
 "nbformat": 4,
 "nbformat_minor": 5
}
