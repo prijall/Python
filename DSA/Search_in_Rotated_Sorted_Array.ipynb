{
 "cells": [
  {
   "cell_type": "markdown",
   "id": "e157f03f",
   "metadata": {},
   "source": [
    "- set the left and right pointer as we will be using binary search\n",
    "- while l<=r as we will be returning idx\n",
    "- calulate mid\n",
    "- if mid val equals to the target then return mid which is our index\n",
    "- if nums[l]<=nums[mid], then our solution must be in right side\n",
    "- if target < nums[l] or target > nums[mid] then l= mid + 1 else r=mid -1\n",
    "- else if target > nums[r] or target < nums[mid] then r= mid -1 else l=mid + 1\n",
    "- return -1\n",
    " "
   ]
  },
  {
   "cell_type": "code",
   "execution_count": 4,
   "id": "30076491",
   "metadata": {},
   "outputs": [],
   "source": [
    "class Solution:\n",
    "    def search(self, nums:list[int], target:int)->int:\n",
    "        l, r=0, len(nums)-1\n",
    "\n",
    "        while l<=r:\n",
    "            mid=l + (r-l)//2\n",
    "\n",
    "            if nums[mid]==target:\n",
    "                return mid\n",
    "            \n",
    "            if nums[l]<=nums[mid]:\n",
    "                if target < nums[l] or target > nums[mid]: #checking if target lies in between lower parrt and higher part of left portion\n",
    "                    l=mid+1\n",
    "                else:\n",
    "                    r=mid-1\n",
    "            else:\n",
    "                if target > nums[r] or target< nums[mid]:\n",
    "                    r=mid-1\n",
    "                else:\n",
    "                    l=mid+1\n",
    "\n",
    "        return -1"
   ]
  },
  {
   "cell_type": "code",
   "execution_count": 5,
   "id": "5be32812",
   "metadata": {},
   "outputs": [
    {
     "data": {
      "text/plain": [
       "4"
      ]
     },
     "execution_count": 5,
     "metadata": {},
     "output_type": "execute_result"
    }
   ],
   "source": [
    "s=Solution()\n",
    "s.search(nums=[4, 5, 6, 1, 2, 3], target=2)"
   ]
  },
  {
   "cell_type": "code",
   "execution_count": 6,
   "id": "bd6c4c07",
   "metadata": {},
   "outputs": [
    {
     "data": {
      "text/plain": [
       "-1"
      ]
     },
     "execution_count": 6,
     "metadata": {},
     "output_type": "execute_result"
    }
   ],
   "source": [
    "\n",
    "s=Solution()\n",
    "s.search( nums = [3,5,6,0,1,2], target = 4)"
   ]
  },
  {
   "cell_type": "markdown",
   "id": "9226e10a",
   "metadata": {},
   "source": [
    "- Time Complexity: O(logn)\n",
    "- Space Complexity: O(1)"
   ]
  }
 ],
 "metadata": {
  "kernelspec": {
   "display_name": "Python 3",
   "language": "python",
   "name": "python3"
  },
  "language_info": {
   "codemirror_mode": {
    "name": "ipython",
    "version": 3
   },
   "file_extension": ".py",
   "mimetype": "text/x-python",
   "name": "python",
   "nbconvert_exporter": "python",
   "pygments_lexer": "ipython3",
   "version": "3.12.0"
  }
 },
 "nbformat": 4,
 "nbformat_minor": 5
}
