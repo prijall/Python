{
 "cells": [
  {
   "cell_type": "markdown",
   "id": "180d7654",
   "metadata": {},
   "source": [
    "#### Solving using two pointer:\n",
    "- since we are looking for minimum number of boats, we should try to accomodate highest weight and lowest weight at the same boat.\n",
    "- sort the list and set the l to 0 index(minimum weight) and r to right most index(max weight) and create a boats var to store the no of boats used(init=0)\n",
    "- use while loop l<=r as we will be checking all the values\n",
    "- subtracting max weight to limit and storing the value as remain as it indicates the remain capacity of the boat after loading of max wt\n",
    "- decrement of r pointer to point the new max weight as the initial wt is loaded on boat(this is generally done for next loop)\n",
    "- increment of boats to 1 as the max wt is loaded\n",
    "- check if capacity of the boat having max wt have some space so that we can add the person with least wt due to which the no of boats reduces and l<=r because we are looking for every value\n",
    "- if true then increment of l pointer as the initial l will be in the same boat as max wt. This l will be used for next loop like r"
   ]
  },
  {
   "cell_type": "code",
   "execution_count": 13,
   "id": "d3562fa8",
   "metadata": {},
   "outputs": [],
   "source": [
    "class Solution:\n",
    "    def boatSave(self, people:list[int], limit:int)->int:\n",
    "        people.sort() #for getting min and max wt\n",
    "        l, r= 0, len(people)-1\n",
    "        boats=0\n",
    "\n",
    "        while l<=r:\n",
    "            capacity=limit-people[r]\n",
    "            r-=1\n",
    "            boats+=1\n",
    "\n",
    "            if capacity>=people[l]:\n",
    "                l+=1\n",
    "        return boats"
   ]
  },
  {
   "cell_type": "code",
   "execution_count": 14,
   "id": "d0246545",
   "metadata": {},
   "outputs": [
    {
     "data": {
      "text/plain": [
       "4"
      ]
     },
     "execution_count": 14,
     "metadata": {},
     "output_type": "execute_result"
    }
   ],
   "source": [
    "s=Solution()\n",
    "s.boatSave(people=[3,5,3,4], limit=5)"
   ]
  },
  {
   "cell_type": "markdown",
   "id": "7d75c1fd",
   "metadata": {},
   "source": [
    "- Time Complexity: O(nlogn) + O(n) = O(nlogn)\n",
    "- Space Complexity: O(1)"
   ]
  }
 ],
 "metadata": {
  "kernelspec": {
   "display_name": "Python 3",
   "language": "python",
   "name": "python3"
  },
  "language_info": {
   "codemirror_mode": {
    "name": "ipython",
    "version": 3
   },
   "file_extension": ".py",
   "mimetype": "text/x-python",
   "name": "python",
   "nbconvert_exporter": "python",
   "pygments_lexer": "ipython3",
   "version": "3.12.0"
  }
 },
 "nbformat": 4,
 "nbformat_minor": 5
}
