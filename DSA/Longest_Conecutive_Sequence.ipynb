{
 "cells": [
  {
   "cell_type": "code",
   "execution_count": 2,
   "id": "9d46058e",
   "metadata": {},
   "outputs": [],
   "source": [
    "class Solution:\n",
    "    def longCons(self, nums:list[int]):\n",
    "        numsval=set(nums)  # 1) eliminates duplicates 2) offers O(n) avg look-up time\n",
    "        count=0 # to count the len of consecutive sequence\n",
    "        cons_seq=[] # to store seq of consecutive number\n",
    "\n",
    "        for num in numsval:\n",
    "            if (num-1) not in numsval:\n",
    "                length=1\n",
    "                current_seq=[num]\n",
    "\n",
    "                while (num + length) in numsval:\n",
    "                    current_seq.append(num + length)\n",
    "                    length+=1\n",
    "\n",
    "                count=max(length, count)\n",
    "                cons_seq=max(current_seq, cons_seq, key=len)\n",
    "        \n",
    "        return count, cons_seq"
   ]
  },
  {
   "cell_type": "code",
   "execution_count": 3,
   "id": "21969644",
   "metadata": {},
   "outputs": [
    {
     "data": {
      "text/plain": [
       "(4, [1, 2, 3, 4])"
      ]
     },
     "execution_count": 3,
     "metadata": {},
     "output_type": "execute_result"
    }
   ],
   "source": [
    "s=Solution()\n",
    "s.longCons(nums=[1, 2, 3, 4])"
   ]
  },
  {
   "cell_type": "code",
   "execution_count": 4,
   "id": "c5328d14",
   "metadata": {},
   "outputs": [
    {
     "data": {
      "text/plain": [
       "(4, [1, 2, 3, 4])"
      ]
     },
     "execution_count": 4,
     "metadata": {},
     "output_type": "execute_result"
    }
   ],
   "source": [
    "s=Solution()\n",
    "s.longCons(nums=[1, 2, 3, 4, 2, 1, 3])"
   ]
  },
  {
   "cell_type": "code",
   "execution_count": 5,
   "id": "81897d81",
   "metadata": {},
   "outputs": [
    {
     "data": {
      "text/plain": [
       "(1, [5])"
      ]
     },
     "execution_count": 5,
     "metadata": {},
     "output_type": "execute_result"
    }
   ],
   "source": [
    "s=Solution()\n",
    "s.longCons(nums=[1, 3, 5])"
   ]
  },
  {
   "cell_type": "code",
   "execution_count": 6,
   "id": "66ecf88f",
   "metadata": {},
   "outputs": [
    {
     "data": {
      "text/plain": [
       "(0, [])"
      ]
     },
     "execution_count": 6,
     "metadata": {},
     "output_type": "execute_result"
    }
   ],
   "source": [
    "s=Solution()\n",
    "s.longCons(nums=[])"
   ]
  }
 ],
 "metadata": {
  "kernelspec": {
   "display_name": "Python 3",
   "language": "python",
   "name": "python3"
  },
  "language_info": {
   "codemirror_mode": {
    "name": "ipython",
    "version": 3
   },
   "file_extension": ".py",
   "mimetype": "text/x-python",
   "name": "python",
   "nbconvert_exporter": "python",
   "pygments_lexer": "ipython3",
   "version": "3.12.0"
  }
 },
 "nbformat": 4,
 "nbformat_minor": 5
}
