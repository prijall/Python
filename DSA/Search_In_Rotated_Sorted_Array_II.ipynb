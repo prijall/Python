{
 "cells": [
  {
   "cell_type": "markdown",
   "id": "a714c382",
   "metadata": {},
   "source": [
    "- assign left and right pointer\n",
    "- use while loop l<=r because we are checking every possible value\n",
    "- calculate mid value\n",
    "- check if mid == target. if satisfied return true(no need to return false as it will implicitly return false upon unsatisfied condn). Note that if our target is in the list then this return bool value is our answer, that means mid is used to find the target ultimately.\n",
    "- look for left section if sorted(nums[l]< nums[mid]). Generally during rotation, left side tends to have larger values. check if target is greater than or equals nums[l] but smaller than mid(= because there are duplicate values). if true, shift r= mid-1 else l=mid + 1\n",
    "- elif false look for right section (nums[l]>nums[mid]). check if target is smaller than or equals to nums[r] and greater than nums[mid]. if true, l=mid+1 else r=mid-1\n",
    "- else increment of left pointer by 1 because sometimes all the values can be same i.e nums[l]==nums[mid]==nums[r]\n"
   ]
  },
  {
   "cell_type": "code",
   "execution_count": 7,
   "id": "e83ecbd1",
   "metadata": {},
   "outputs": [],
   "source": [
    "class Solution:\n",
    "    def searchInSortedArrayII(self, nums:list[int], target:int)->bool:\n",
    "        l, r= 0, len(nums)-1\n",
    "\n",
    "        while l<=r:\n",
    "            mid= l + (r-l)//2\n",
    "\n",
    "            if nums[mid]==target:\n",
    "                return True\n",
    "            \n",
    "            if nums[l]<nums[mid]:\n",
    "                if nums[l]<=target<nums[mid]:\n",
    "                    r=mid-1\n",
    "                else:\n",
    "                    l=mid+1\n",
    "            elif nums[l]>nums[mid]:\n",
    "                if nums[r]>=target>nums[mid]:\n",
    "                    l=mid+1\n",
    "                else:\n",
    "                    r=mid-1\n",
    "            else:\n",
    "                l+=1"
   ]
  },
  {
   "cell_type": "code",
   "execution_count": 8,
   "id": "76f3ba13",
   "metadata": {},
   "outputs": [
    {
     "data": {
      "text/plain": [
       "True"
      ]
     },
     "execution_count": 8,
     "metadata": {},
     "output_type": "execute_result"
    }
   ],
   "source": [
    "s=Solution()\n",
    "s.searchInSortedArrayII(nums = [2, 2, 2, 3, 2, 2, 2], target=3)"
   ]
  },
  {
   "cell_type": "markdown",
   "id": "95e3873e",
   "metadata": {},
   "source": [
    "- time complexity: O(logn)\n",
    "- space complexiy: O(1)"
   ]
  }
 ],
 "metadata": {
  "kernelspec": {
   "display_name": "Python 3",
   "language": "python",
   "name": "python3"
  },
  "language_info": {
   "codemirror_mode": {
    "name": "ipython",
    "version": 3
   },
   "file_extension": ".py",
   "mimetype": "text/x-python",
   "name": "python",
   "nbconvert_exporter": "python",
   "pygments_lexer": "ipython3",
   "version": "3.12.0"
  }
 },
 "nbformat": 4,
 "nbformat_minor": 5
}
