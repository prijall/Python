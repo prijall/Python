{
 "cells": [
  {
   "cell_type": "code",
   "execution_count": null,
   "id": "44335b04",
   "metadata": {},
   "outputs": [],
   "source": [
    "class ListNode:\n",
    "    def __init__(self, val=0, next=None):\n",
    "        self.val=val\n",
    "        self.next=next\n",
    "\n",
    "class Solution:\n",
    "    def mergeList(self, L1:ListNode, L2:ListNode)->ListNode:\n",
    "        dummy=ListNode()\n",
    "        node=dummy\n",
    "\n",
    "        while L1 and L2:\n",
    "            if L1.val < L2.val:\n",
    "                node.next=L1\n",
    "                L1=L1.next\n",
    "            else:\n",
    "                node.next=L2\n",
    "                L2=L2.next\n",
    "            node=node.next\n",
    "\n",
    "        node.next=L1 or L2\n",
    "\n",
    "        return dummy.next"
   ]
  },
  {
   "cell_type": "markdown",
   "id": "af3b8c6e",
   "metadata": {},
   "source": [
    "- Time Complexity: O(m+n) where m is the len of L1 and n is the len of L2\n",
    "- Space Complexity: O(1)"
   ]
  }
 ],
 "metadata": {
  "language_info": {
   "name": "python"
  }
 },
 "nbformat": 4,
 "nbformat_minor": 5
}
