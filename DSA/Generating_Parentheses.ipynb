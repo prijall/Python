{
  "metadata": {
    "kernelspec": {
      "name": "python",
      "display_name": "Python (Pyodide)",
      "language": "python"
    },
    "language_info": {
      "codemirror_mode": {
        "name": "python",
        "version": 3
      },
      "file_extension": ".py",
      "mimetype": "text/x-python",
      "name": "python",
      "nbconvert_exporter": "python",
      "pygments_lexer": "ipython3",
      "version": "3.8"
    }
  },
  "nbformat_minor": 5,
  "nbformat": 4,
  "cells": [
    {
      "id": "aa5f86d2-c4ef-4430-a09d-9be5ff69442f",
      "cell_type": "code",
      "source": "class Solution:\n    def generate_parenthesis(self, n:int)->list[str]:\n        result=[]\n        stack=[]\n\n        def backtrack(openN, closeN):\n            if openN==closeN==n:\n                result.append(\"\".join(stack))\n                return \n\n            if openN < n:\n                stack.append('(')\n                backtrack(openN+1, closeN)\n                stack.pop()\n\n            if closeN < openN:\n                stack.append(')')\n                backtrack(openN, closeN+1)\n                stack.pop()\n\n        backtrack(0, 0)\n\n        return result\n        \n                \n        ",
      "metadata": {
        "trusted": true
      },
      "outputs": [],
      "execution_count": 8
    },
    {
      "id": "995271a6-075e-4adb-8c4e-0d5566c3d75e",
      "cell_type": "code",
      "source": "s=Solution()\ns.generate_parenthesis(n=4\n                      )",
      "metadata": {
        "trusted": true
      },
      "outputs": [
        {
          "execution_count": 10,
          "output_type": "execute_result",
          "data": {
            "text/plain": "['(((())))',\n '((()()))',\n '((())())',\n '((()))()',\n '(()(()))',\n '(()()())',\n '(()())()',\n '(())(())',\n '(())()()',\n '()((()))',\n '()(()())',\n '()(())()',\n '()()(())',\n '()()()()']"
          },
          "metadata": {}
        }
      ],
      "execution_count": 10
    },
    {
      "id": "e071c997-7379-4c30-9333-2ec68326963a",
      "cell_type": "code",
      "source": "",
      "metadata": {
        "trusted": true
      },
      "outputs": [],
      "execution_count": null
    }
  ]
}
