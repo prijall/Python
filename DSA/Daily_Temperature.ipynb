{
  "metadata": {
    "kernelspec": {
      "name": "python",
      "display_name": "Python (Pyodide)",
      "language": "python"
    },
    "language_info": {
      "codemirror_mode": {
        "name": "python",
        "version": 3
      },
      "file_extension": ".py",
      "mimetype": "text/x-python",
      "name": "python",
      "nbconvert_exporter": "python",
      "pygments_lexer": "ipython3",
      "version": "3.8"
    }
  },
  "nbformat_minor": 5,
  "nbformat": 4,
  "cells": [
    {
      "id": "bf5b96b6-8c2c-43d6-a8c0-b02133ac89ae",
      "cell_type": "code",
      "source": "class Solution:\n    def daily_temp(self, temperatures:list[int])->list[int]:\n        result=[0] * len(temperatures) #since we put the value 0 for the day whose succeeding days dont have any warmer temp than that\n        stack=[] #It is extra space which contains value in pair(temp, idx)\n\n        for idx, temp in enumerate(temperatures):\n            while stack and temp > stack[-1][0]: #stack is used to avoid out of range(indexerror)\n                stackTemp, stackIdx=stack.pop()\n                result[stackIdx]=idx-stackIdx\n            stack.append((temp, idx))\n        return result    ",
      "metadata": {
        "trusted": true
      },
      "outputs": [],
      "execution_count": 9
    },
    {
      "id": "b0a6f9f3-a869-4b5b-ab59-d9013eac5389",
      "cell_type": "code",
      "source": "s=Solution()\ns.daily_temp(temperatures = [30,38,30,36,35,40,28])",
      "metadata": {
        "trusted": true
      },
      "outputs": [
        {
          "execution_count": 11,
          "output_type": "execute_result",
          "data": {
            "text/plain": "[1, 4, 1, 2, 1, 0, 0]"
          },
          "metadata": {}
        }
      ],
      "execution_count": 11
    },
    {
      "id": "73d94c8f-454f-4f49-a02f-837858613f1b",
      "cell_type": "markdown",
      "source": "- Time Complexity: O(n)\n- Space Complexity: o(n) #due to extra space called stack",
      "metadata": {}
    }
  ]
}