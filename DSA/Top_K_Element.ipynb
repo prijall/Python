{
 "cells": [
  {
   "cell_type": "code",
   "execution_count": null,
   "id": "6bd1747e",
   "metadata": {},
   "outputs": [
    {
     "name": "stdout",
     "output_type": "stream",
     "text": [
      "dict_items([(1, 1), (2, 2), (3, 3)])\n"
     ]
    },
    {
     "data": {
      "text/plain": [
       "[3, 2]"
      ]
     },
     "execution_count": 6,
     "metadata": {},
     "output_type": "execute_result"
    }
   ],
   "source": [
    "class Solution:\n",
    "    def topfreq(self, nums:list[int], k:int)->list[int]:\n",
    "        count={} # for counting element and their frequency\n",
    "        freq=[[] for i in range(len(nums)+1)]\n",
    "        result=[]\n",
    "\n",
    "        for num in nums:\n",
    "            count[num]=count.get(num, 0) + 1\n",
    "\n",
    "        for num, cnt in count.items():\n",
    "            freq[cnt].append(num)\n",
    "\n",
    "        for i in range(len(nums)-1, 0, -1):\n",
    "            for num in freq[i]:\n",
    "                result.append(num)\n",
    "                if len(result)==k:\n",
    "                    return result\n",
    "\n",
    "\n",
    "s=Solution()\n",
    "s.topfreq(nums = [1,2,2,3,3,3], k = 2)"
   ]
  }
 ],
 "metadata": {
  "kernelspec": {
   "display_name": "Python 3",
   "language": "python",
   "name": "python3"
  },
  "language_info": {
   "codemirror_mode": {
    "name": "ipython",
    "version": 3
   },
   "file_extension": ".py",
   "mimetype": "text/x-python",
   "name": "python",
   "nbconvert_exporter": "python",
   "pygments_lexer": "ipython3",
   "version": "3.12.0"
  }
 },
 "nbformat": 4,
 "nbformat_minor": 5
}
