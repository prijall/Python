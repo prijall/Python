{
 "cells": [
  {
   "cell_type": "markdown",
   "id": "33cf0f2d",
   "metadata": {},
   "source": [
    "### Iterative Approach"
   ]
  },
  {
   "cell_type": "code",
   "execution_count": 11,
   "id": "2b62951f",
   "metadata": {},
   "outputs": [],
   "source": [
    "#defining singly linked list:\n",
    "class ListNode:\n",
    "    def __init__(self, val=0, next=None):\n",
    "        self.val=val\n",
    "        self.next=next"
   ]
  },
  {
   "cell_type": "code",
   "execution_count": 12,
   "id": "fcd0ca15",
   "metadata": {},
   "outputs": [],
   "source": [
    "class Solution:\n",
    "    def reverseList(self, head:ListNode)-> ListNode:\n",
    "        prev, curr=None, head\n",
    "\n",
    "        while curr:\n",
    "            nxt=curr.next\n",
    "            curr.next=prev\n",
    "            prev=curr\n",
    "            curr=nxt\n",
    "        return curr        "
   ]
  },
  {
   "cell_type": "markdown",
   "id": "115f821a",
   "metadata": {},
   "source": [
    "- Time Complexity: O(n)\n",
    "- Space Complexity: O(1)"
   ]
  }
 ],
 "metadata": {
  "kernelspec": {
   "display_name": "Python 3",
   "language": "python",
   "name": "python3"
  },
  "language_info": {
   "codemirror_mode": {
    "name": "ipython",
    "version": 3
   },
   "file_extension": ".py",
   "mimetype": "text/x-python",
   "name": "python",
   "nbconvert_exporter": "python",
   "pygments_lexer": "ipython3",
   "version": "3.12.0"
  }
 },
 "nbformat": 4,
 "nbformat_minor": 5
}
