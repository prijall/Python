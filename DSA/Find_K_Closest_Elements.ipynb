{
 "cells": [
  {
   "cell_type": "markdown",
   "id": "f4c78782",
   "metadata": {},
   "source": [
    "- using binary search \n",
    "- run the loop untill the x is found \n",
    "- set pointers in such a way that it should look for the element around not only in any particular direction\n",
    "- condn: if |a-x|<=|b-x| then a is closer to x than b"
   ]
  },
  {
   "cell_type": "code",
   "execution_count": 1,
   "id": "69c677e6",
   "metadata": {},
   "outputs": [],
   "source": [
    "class Solution:\n",
    "    def findK(self, arr:list[int], k:int, x:int)->bool:\n",
    "        l=0\n",
    "        r=len(arr)-1\n",
    "\n",
    "        while l<r:\n",
    "            mid=(l+r)//2\n",
    "            if arr[mid]<x:\n",
    "                l=mid+1\n",
    "            else:\n",
    "                r=mid\n",
    "\n",
    "            l, r=l-1, l\n",
    "            result=[]\n",
    "\n",
    "            while len(result)<k:\n",
    "                if l<0:\n",
    "                    result.append(arr[r])\n",
    "                    r+=1\n",
    "                elif r>=len(result):\n",
    "                    result.append(arr[l])\n",
    "                    l-=1\n",
    "                else:\n",
    "                    if (abs(arr[l]-x)<=abs(arr[r]-x)):\n",
    "                        result.append(arr[l])\n",
    "                        l-=1\n",
    "                    else:\n",
    "                        result.append(arr[r])\n",
    "                        r+=1\n",
    "            return sorted(result)\n"
   ]
  },
  {
   "cell_type": "code",
   "execution_count": 3,
   "id": "c9469d91",
   "metadata": {},
   "outputs": [
    {
     "data": {
      "text/plain": [
       "[1, 2, 3, 4]"
      ]
     },
     "execution_count": 3,
     "metadata": {},
     "output_type": "execute_result"
    }
   ],
   "source": [
    "s=Solution()\n",
    "s.findK(arr=[1, 2, 3, 4, 5], k=4, x=3)"
   ]
  },
  {
   "cell_type": "code",
   "execution_count": 4,
   "id": "c1dbb23b",
   "metadata": {},
   "outputs": [
    {
     "data": {
      "text/plain": [
       "[1, 1, 2, 3]"
      ]
     },
     "execution_count": 4,
     "metadata": {},
     "output_type": "execute_result"
    }
   ],
   "source": [
    "s=Solution()\n",
    "s.findK(arr=[1, 1, 2, 3, 4], k=4, x=-1)"
   ]
  },
  {
   "cell_type": "markdown",
   "id": "c7514ba9",
   "metadata": {},
   "source": [
    "- Time Complexity: O(log n) + O(k) + O(k log K)= O(log n) + O(k log K )=O(log n + k)\n",
    "- Space Complexity: O(k) "
   ]
  }
 ],
 "metadata": {
  "kernelspec": {
   "display_name": "Python 3",
   "language": "python",
   "name": "python3"
  },
  "language_info": {
   "codemirror_mode": {
    "name": "ipython",
    "version": 3
   },
   "file_extension": ".py",
   "mimetype": "text/x-python",
   "name": "python",
   "nbconvert_exporter": "python",
   "pygments_lexer": "ipython3",
   "version": "3.12.0"
  }
 },
 "nbformat": 4,
 "nbformat_minor": 5
}
