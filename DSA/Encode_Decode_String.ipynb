{
 "cells": [
  {
   "cell_type": "code",
   "execution_count": 6,
   "id": "9004743f",
   "metadata": {},
   "outputs": [
    {
     "name": "stdout",
     "output_type": "stream",
     "text": [
      "the encoded value is: 2#my4#name2#is6#prijal\n",
      "the decoded value: ['my', 'name', 'is', 'prijal']\n"
     ]
    }
   ],
   "source": [
    "class Solution:\n",
    "    def encoder(self, strs:list[str])->str:\n",
    "        res=''\n",
    "        for s in strs:\n",
    "            res+=str(len(s)) + '#' + s\n",
    "        return res\n",
    "    \n",
    "    def decoder(self, res)->list[str]:\n",
    "        result=[]\n",
    "        i=0\n",
    "\n",
    "        while i < len(res):\n",
    "            j=i\n",
    "\n",
    "            while res[j]!='#':\n",
    "                j+=1\n",
    "                length=int(res[i:j])\n",
    "                result.append(res[j+1: j+1+length])\n",
    "\n",
    "                i=j+1+length\n",
    "        return result\n",
    "    \n",
    "\n",
    "s=Solution()\n",
    "input=s.encoder(strs=['my', 'name', 'is', 'prijal'])\n",
    "output=s.decoder(res=input)\n",
    "\n",
    "\n",
    "print(f'the encoded value is: {input}')\n",
    "print(f'the decoded value: {output}')"
   ]
  },
  {
   "cell_type": "markdown",
   "id": "61ae920f",
   "metadata": {},
   "source": [
    "- time complexity: O(m) where  m is the length of sum of all strings for both encoder and decoder\n",
    "- space complexity: O(m+n) where  n is the no of strings\n"
   ]
  }
 ],
 "metadata": {
  "kernelspec": {
   "display_name": "Python 3",
   "language": "python",
   "name": "python3"
  },
  "language_info": {
   "codemirror_mode": {
    "name": "ipython",
    "version": 3
   },
   "file_extension": ".py",
   "mimetype": "text/x-python",
   "name": "python",
   "nbconvert_exporter": "python",
   "pygments_lexer": "ipython3",
   "version": "3.12.0"
  }
 },
 "nbformat": 4,
 "nbformat_minor": 5
}
