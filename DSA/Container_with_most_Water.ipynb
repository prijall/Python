{
 "cells": [
  {
   "cell_type": "code",
   "execution_count": 1,
   "id": "31a035e1",
   "metadata": {},
   "outputs": [],
   "source": [
    "class Solution:\n",
    "    def container(self, height:list[int])->int:\n",
    "        l=0\n",
    "        r=len(height)-1  # both the pointers are set to the extremes so that we can get max width\n",
    "        result=0\n",
    "\n",
    "        while l<r:\n",
    "            area=(r-l)* min(height[l], height[r]) # we care about min height because upto that point only water can be filled\n",
    "            result=max(result, area)\n",
    "            \n",
    "            if height[l]<=height[r]:\n",
    "                l+=1\n",
    "            else:\n",
    "                r-=1\n",
    "        \n",
    "        return result"
   ]
  },
  {
   "cell_type": "code",
   "execution_count": 2,
   "id": "0b2a2d3f",
   "metadata": {},
   "outputs": [
    {
     "data": {
      "text/plain": [
       "49"
      ]
     },
     "execution_count": 2,
     "metadata": {},
     "output_type": "execute_result"
    }
   ],
   "source": [
    "s=Solution()\n",
    "s.container(height=[1,8,6,2,5,4,8,3,7])"
   ]
  },
  {
   "cell_type": "code",
   "execution_count": 3,
   "id": "e90850de",
   "metadata": {},
   "outputs": [
    {
     "data": {
      "text/plain": [
       "1"
      ]
     },
     "execution_count": 3,
     "metadata": {},
     "output_type": "execute_result"
    }
   ],
   "source": [
    "s=Solution()\n",
    "s.container(height=[1,1])"
   ]
  },
  {
   "cell_type": "markdown",
   "id": "d3cd2166",
   "metadata": {},
   "source": [
    "- time complexity: O(n)\n",
    "- space complexity: O(1)"
   ]
  },
  {
   "cell_type": "markdown",
   "id": "847e377a",
   "metadata": {},
   "source": [
    "### Brute Force Approach:\n",
    "- time complexity: O(n^2)\n",
    "- space complexity: O(1)"
   ]
  },
  {
   "cell_type": "code",
   "execution_count": 5,
   "id": "2f64be4f",
   "metadata": {},
   "outputs": [
    {
     "data": {
      "text/plain": [
       "1"
      ]
     },
     "execution_count": 5,
     "metadata": {},
     "output_type": "execute_result"
    }
   ],
   "source": [
    "class val:\n",
    "    def look(self, heights:list[int])->int:\n",
    "        res=0\n",
    "        for l in range(len(heights)):\n",
    "            for r in range(l+1, len(heights)):\n",
    "                res=max(res, ((r-l)*min(heights[l], heights[r])))\n",
    "        return res\n",
    "\n",
    "v=val()\n",
    "v.look(heights=[1,1])\n"
   ]
  }
 ],
 "metadata": {
  "kernelspec": {
   "display_name": "Python 3",
   "language": "python",
   "name": "python3"
  },
  "language_info": {
   "codemirror_mode": {
    "name": "ipython",
    "version": 3
   },
   "file_extension": ".py",
   "mimetype": "text/x-python",
   "name": "python",
   "nbconvert_exporter": "python",
   "pygments_lexer": "ipython3",
   "version": "3.12.0"
  }
 },
 "nbformat": 4,
 "nbformat_minor": 5
}
