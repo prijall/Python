{
 "cells": [
  {
   "cell_type": "code",
   "execution_count": 2,
   "id": "9f70ebda",
   "metadata": {},
   "outputs": [
    {
     "data": {
      "text/plain": [
       "[24, 12, 8, 6]"
      ]
     },
     "execution_count": 2,
     "metadata": {},
     "output_type": "execute_result"
    }
   ],
   "source": [
    "class Solution:\n",
    "    def productArray(self, nums:list[int])->list[int]:\n",
    "        result=[1] * len(nums)\n",
    "\n",
    "        prefix=1\n",
    "        for i in range(len(nums)):\n",
    "            result[i]=prefix\n",
    "            prefix *= nums[i]\n",
    "\n",
    "        postfix=1\n",
    "        for i in range(len(nums)-1, -1, -1):\n",
    "            result[i]*=postfix #prefix and postfix multiplication resulting in product at ith position\n",
    "            postfix*=nums[i]\n",
    "\n",
    "        return result\n",
    "\n",
    "\n",
    "s=Solution()\n",
    "s.productArray(nums=[1, 2, 3, 4])\n",
    "\n",
    "        "
   ]
  },
  {
   "cell_type": "markdown",
   "id": "9a5f3408",
   "metadata": {},
   "source": [
    "- time complexity:O(n) + O(n)=O(n)\n",
    "- space complexity: O(1), O(n) for output array"
   ]
  }
 ],
 "metadata": {
  "kernelspec": {
   "display_name": "Python 3",
   "language": "python",
   "name": "python3"
  },
  "language_info": {
   "codemirror_mode": {
    "name": "ipython",
    "version": 3
   },
   "file_extension": ".py",
   "mimetype": "text/x-python",
   "name": "python",
   "nbconvert_exporter": "python",
   "pygments_lexer": "ipython3",
   "version": "3.12.0"
  }
 },
 "nbformat": 4,
 "nbformat_minor": 5
}
