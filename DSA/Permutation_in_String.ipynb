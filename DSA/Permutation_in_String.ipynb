{
 "cells": [
  {
   "cell_type": "markdown",
   "id": "65fb158a",
   "metadata": {},
   "source": [
    "- check if len of str1 is greater than str2 as len of str2 shouldn't be lesser than len of str1 as we ought to check the permutation of substring in str2\n",
    "- set up empty array of size 26 with 0 value\n",
    "- since the len of a is shorter, take len of the win for both string to that of len a and count the value using asci number for both the strings\n",
    "- check for matches for all 26 value(remember it's not about equivalency but about equality)\n",
    "- set up left and right pointer where right pointer start at the same position from where we created a first window that is len of a to len of b\n",
    "- check if all 26 value matches for this win without even sliding r pointer if yes return true\n",
    "- if not then calculate the idx for that point like we did before and add that increment the val of that idx by 1\n",
    "- now check if that idx of countA and countB equal if yes then increase match\n",
    "- if  val in B only equals to val in A when val is A is increment by 1 then the newly added val in countB doesnot match resulting in decrement of match by 1\n",
    "- now shrink the window same like above where upon equal matches in increased and when the added val in countB equals to val in countA after subs then there is no matches hence decrement of matches by 1\n",
    "- increment of l pointer as the cuurent pointed val will be removed\n",
    "- return matches "
   ]
  },
  {
   "cell_type": "code",
   "execution_count": 3,
   "id": "4177f383",
   "metadata": {},
   "outputs": [],
   "source": [
    "class Solution:\n",
    "    def permute(self, a:str, b:str)->bool:\n",
    "\n",
    "        if len(a)>len(b):\n",
    "            return False\n",
    "        \n",
    "        countA, countB=[0]*26, [0]*26\n",
    "        \n",
    "        for i in range(len(a)):\n",
    "            countA[ord(a[i])-ord('a')]+=1\n",
    "            countB[ord(b[i])-ord('a')]+=1\n",
    "        \n",
    "        \n",
    "        matches=0\n",
    "        for i in range(26):\n",
    "            matches+=(1 if countA[i]==countB[i] else 0)\n",
    "\n",
    "        l=0\n",
    "        for r in range(len(a), len(b)):\n",
    "            if matches==26:\n",
    "                return True\n",
    "            \n",
    "            index=ord(b[r])-ord('a')\n",
    "            countB[index]+=1\n",
    "            if countA[index]==countB[index]:\n",
    "                matches+=1\n",
    "            elif countA[index]+1==countB[index]:\n",
    "                matches-=1\n",
    "\n",
    "            index=ord(b[l])-ord('a')\n",
    "            countB[index]-=1\n",
    "            if countA[index]==countB[index]:\n",
    "                matches+=1\n",
    "            elif countA[index]-1==countB[index]:\n",
    "                matches-=1\n",
    "\n",
    "            l+=1\n",
    "        return matches==26\n",
    "\n"
   ]
  },
  {
   "cell_type": "code",
   "execution_count": 4,
   "id": "43ab3ff7",
   "metadata": {},
   "outputs": [
    {
     "data": {
      "text/plain": [
       "True"
      ]
     },
     "execution_count": 4,
     "metadata": {},
     "output_type": "execute_result"
    }
   ],
   "source": [
    "s=Solution()\n",
    "s.permute(a='ab', b='xyabed')"
   ]
  },
  {
   "cell_type": "markdown",
   "id": "6ca47837",
   "metadata": {},
   "source": [
    "- Time complexity: O(n) where n is the len of str in searching str\n",
    "- Space Complexity: O(1) because these two array will be constant to 26(space complexity is about how much space it takes when the size of the problem grows, here these arrays are fixed)"
   ]
  }
 ],
 "metadata": {
  "kernelspec": {
   "display_name": "Python 3",
   "language": "python",
   "name": "python3"
  },
  "language_info": {
   "codemirror_mode": {
    "name": "ipython",
    "version": 3
   },
   "file_extension": ".py",
   "mimetype": "text/x-python",
   "name": "python",
   "nbconvert_exporter": "python",
   "pygments_lexer": "ipython3",
   "version": "3.12.0"
  }
 },
 "nbformat": 4,
 "nbformat_minor": 5
}
