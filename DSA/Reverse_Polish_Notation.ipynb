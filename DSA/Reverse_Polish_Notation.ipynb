{
 "cells": [
  {
   "cell_type": "code",
   "execution_count": 3,
   "id": "615ddacc",
   "metadata": {},
   "outputs": [],
   "source": [
    "class Solution:\n",
    "    def eval(self, tokens:list[str])->int:\n",
    "        stack=[]\n",
    "\n",
    "        for c in tokens:\n",
    "            if c=='+':\n",
    "                stack.append(stack.pop() + stack.pop())\n",
    "            elif c=='-':\n",
    "                a, b=stack.pop(), stack.pop()\n",
    "                stack.append(b-a)\n",
    "            elif c=='*':\n",
    "                 stack.append(stack.pop() * stack.pop())\n",
    "            elif c=='/':\n",
    "                a, b=stack.pop(), stack.pop()\n",
    "                stack.append(int(b/a))\n",
    "            else:\n",
    "                stack.append(int(c))\n",
    "\n",
    "        return stack[0]"
   ]
  },
  {
   "cell_type": "code",
   "execution_count": 4,
   "id": "503e7548",
   "metadata": {},
   "outputs": [
    {
     "data": {
      "text/plain": [
       "3"
      ]
     },
     "execution_count": 4,
     "metadata": {},
     "output_type": "execute_result"
    }
   ],
   "source": [
    "s=Solution()\n",
    "s.eval(tokens=['2', '3', '-','4', '+'])"
   ]
  },
  {
   "cell_type": "markdown",
   "id": "b2c9a229",
   "metadata": {},
   "source": [
    "- Time Complexity: O(n) for traversing through the stack\n",
    "- Space complexity: O(n) #for stack"
   ]
  }
 ],
 "metadata": {
  "kernelspec": {
   "display_name": "Python 3",
   "language": "python",
   "name": "python3"
  },
  "language_info": {
   "codemirror_mode": {
    "name": "ipython",
    "version": 3
   },
   "file_extension": ".py",
   "mimetype": "text/x-python",
   "name": "python",
   "nbconvert_exporter": "python",
   "pygments_lexer": "ipython3",
   "version": "3.12.0"
  }
 },
 "nbformat": 4,
 "nbformat_minor": 5
}
