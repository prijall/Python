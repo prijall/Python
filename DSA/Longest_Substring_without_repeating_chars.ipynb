{
 "cells": [
  {
   "cell_type": "markdown",
   "id": "f0fcfc8a",
   "metadata": {},
   "source": [
    "- initialize l,r pointer(remember, it is variable sliding window problem)\n",
    "- initialize empty set because set helps to lookup for duplicates in O(1) time complexity\n",
    "- Initialize variable to store result\n",
    "- Run the right pointer till the len of string\n",
    "- while the char of r pointer is already in set then remove the char of the left pointer which usually points the same char as r pointer\n",
    "- increment of l pointer by 1 \n",
    "- if not in set then add to the set\n",
    "- compare the result by r-l+1 with result var using max() everytime the loop runs\n",
    "- obtain the value/result"
   ]
  },
  {
   "cell_type": "code",
   "execution_count": 3,
   "id": "db86c109",
   "metadata": {},
   "outputs": [],
   "source": [
    "class Solution:\n",
    "    def longestsubs(self, strs:str)->int:\n",
    "        l=0\n",
    "        charSet=set()\n",
    "        result=0\n",
    "\n",
    "        for r in range(len(strs)):\n",
    "            while strs[r] in charSet:\n",
    "                charSet.remove(strs[l])\n",
    "                l+=1\n",
    "            charSet.add(strs[r])\n",
    "            result=max(result, r-l+1)\n",
    "        return result"
   ]
  },
  {
   "cell_type": "code",
   "execution_count": 4,
   "id": "fbdc6205",
   "metadata": {},
   "outputs": [
    {
     "data": {
      "text/plain": [
       "3"
      ]
     },
     "execution_count": 4,
     "metadata": {},
     "output_type": "execute_result"
    }
   ],
   "source": [
    "s=Solution()\n",
    "s.longestsubs(strs='abcabcbb')"
   ]
  },
  {
   "cell_type": "markdown",
   "id": "82d1a502",
   "metadata": {},
   "source": [
    "- Time Complexity: O(n)\n",
    "- Space Compleity: O(min(n, k)) where n=len of seq, k=len of char in set. we do this because sometime len of set can be equals to n"
   ]
  }
 ],
 "metadata": {
  "kernelspec": {
   "display_name": "Python 3",
   "language": "python",
   "name": "python3"
  },
  "language_info": {
   "codemirror_mode": {
    "name": "ipython",
    "version": 3
   },
   "file_extension": ".py",
   "mimetype": "text/x-python",
   "name": "python",
   "nbconvert_exporter": "python",
   "pygments_lexer": "ipython3",
   "version": "3.12.0"
  }
 },
 "nbformat": 4,
 "nbformat_minor": 5
}
