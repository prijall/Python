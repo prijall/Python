{
 "cells": [
  {
   "cell_type": "code",
   "execution_count": 3,
   "id": "e4c1538a",
   "metadata": {},
   "outputs": [],
   "source": [
    "class MinStack:\n",
    "    def __init__(self):\n",
    "        self.stack=[]\n",
    "        self.minStack=[]\n",
    "\n",
    "    def push(self, val:int)->None:\n",
    "        self.stack.append(val)\n",
    "        val=min(val, self.minStack[-1] if self.minStack else val)\n",
    "        self.minStack.append(val)\n",
    "        \n",
    "    def pop(self)->None:\n",
    "        self.stack.pop()\n",
    "        self.minStack.pop()\n",
    "\n",
    "    def top(self)->int:\n",
    "        return self.stack[-1]\n",
    "    \n",
    "    def getMin(self)->int:\n",
    "        return self.minStack[-1]"
   ]
  },
  {
   "cell_type": "code",
   "execution_count": 4,
   "id": "d5175fc5",
   "metadata": {},
   "outputs": [
    {
     "data": {
      "text/plain": [
       "(7, 3)"
      ]
     },
     "execution_count": 4,
     "metadata": {},
     "output_type": "execute_result"
    }
   ],
   "source": [
    "m=MinStack()\n",
    "m.push(3)\n",
    "m.push(7)\n",
    "m.top(), m.getMin()"
   ]
  },
  {
   "cell_type": "markdown",
   "id": "20da96cc",
   "metadata": {},
   "source": [
    "- Time Complexity: O(1)\n",
    "- Space Complexity: O(n)"
   ]
  }
 ],
 "metadata": {
  "kernelspec": {
   "display_name": "Python 3",
   "language": "python",
   "name": "python3"
  },
  "language_info": {
   "codemirror_mode": {
    "name": "ipython",
    "version": 3
   },
   "file_extension": ".py",
   "mimetype": "text/x-python",
   "name": "python",
   "nbconvert_exporter": "python",
   "pygments_lexer": "ipython3",
   "version": "3.12.0"
  }
 },
 "nbformat": 4,
 "nbformat_minor": 5
}
