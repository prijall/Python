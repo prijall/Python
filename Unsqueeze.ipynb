{
 "cells": [
  {
   "cell_type": "markdown",
   "metadata": {},
   "source": [
    "- certain architecture and model expects specific kinds of input sequence, to \n",
    "make so we need to change the dim of the input in tensor using unsqueeze, which\n",
    "allows to add singleton dim(a dim with size 1) at specific position."
   ]
  },
  {
   "cell_type": "markdown",
   "metadata": {},
   "source": [
    "### Syntax:\n",
    "torch.unsqueeze(input, dim)\n",
    "where\n",
    "- input: tensor\n",
    "- dim: the index at which to insert the singleton dim"
   ]
  },
  {
   "cell_type": "code",
   "execution_count": 3,
   "metadata": {},
   "outputs": [],
   "source": [
    "import torch"
   ]
  },
  {
   "cell_type": "code",
   "execution_count": 4,
   "metadata": {},
   "outputs": [
    {
     "name": "stdout",
     "output_type": "stream",
     "text": [
      "Original tensor torch.Size([3, 4])\n"
     ]
    }
   ],
   "source": [
    "#@ Original tensor:\n",
    "x=torch.tensor([[1, 2, 3, 4], [5, 6, 7, 8], [9, 10, 11, 12]])\n",
    "print('Original tensor', x.shape)"
   ]
  },
  {
   "cell_type": "code",
   "execution_count": 6,
   "metadata": {},
   "outputs": [
    {
     "name": "stdout",
     "output_type": "stream",
     "text": [
      "Unsqueeze at index 0: torch.Size([1, 3, 4])\n"
     ]
    }
   ],
   "source": [
    "#@ Adding a new dim at index 0:\n",
    "y=torch.unsqueeze(x, 0)\n",
    "print('Unsqueeze at index 0:', y.shape)"
   ]
  }
 ],
 "metadata": {
  "kernelspec": {
   "display_name": "Python 3",
   "language": "python",
   "name": "python3"
  },
  "language_info": {
   "codemirror_mode": {
    "name": "ipython",
    "version": 3
   },
   "file_extension": ".py",
   "mimetype": "text/x-python",
   "name": "python",
   "nbconvert_exporter": "python",
   "pygments_lexer": "ipython3",
   "version": "3.12.0"
  }
 },
 "nbformat": 4,
 "nbformat_minor": 2
}
