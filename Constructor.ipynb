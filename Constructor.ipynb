{
 "cells": [
  {
   "cell_type": "code",
   "execution_count": 1,
   "metadata": {},
   "outputs": [
    {
     "name": "stdout",
     "output_type": "stream",
     "text": [
      "Hello world, My name is prijal Khadka\n"
     ]
    }
   ],
   "source": [
    "#Example of Default Constructor\n",
    "\n",
    "class Person:\n",
    "   def __init__(self):\n",
    "        print('Hello world, My name is prijal Khadka')\n",
    "a= Person()\n",
    "\n",
    "\n",
    "\n"
   ]
  },
  {
   "cell_type": "code",
   "execution_count": null,
   "metadata": {},
   "outputs": [],
   "source": [
    "#Example of Parameterized Constructor\n",
    "\n",
    "class Vehicle:\n",
    "    def __init__(self, bike, car):\n",
    "        self.bike=bike\n",
    "        self.car=car\n",
    "    \n",
    "    def info(self):\n",
    "     print(f'{self.bike} has 2 wheel whereas {self.car} has 4 wheel')\n",
    "\n",
    "\n",
    "a= Vehicle('Hayabusa', 'Ranger Rover')\n",
    "        "
   ]
  }
 ],
 "metadata": {
  "kernelspec": {
   "display_name": "Python 3",
   "language": "python",
   "name": "python3"
  },
  "language_info": {
   "codemirror_mode": {
    "name": "ipython",
    "version": 3
   },
   "file_extension": ".py",
   "mimetype": "text/x-python",
   "name": "python",
   "nbconvert_exporter": "python",
   "pygments_lexer": "ipython3",
   "version": "3.12.0"
  }
 },
 "nbformat": 4,
 "nbformat_minor": 2
}
