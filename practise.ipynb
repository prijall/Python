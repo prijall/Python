{
 "cells": [
  {
   "cell_type": "code",
   "execution_count": 2,
   "metadata": {},
   "outputs": [
    {
     "name": "stdout",
     "output_type": "stream",
     "text": [
      "Prijal has salary 233\n"
     ]
    }
   ],
   "source": [
    "class Employee:\n",
    "\n",
    "    def __init__(self, name, salary):\n",
    "        self.name=name\n",
    "        self.salary=salary\n",
    "\n",
    "    def Display(self):\n",
    "        print(f'{self.name} has salary {self.salary}')\n",
    "\n",
    "\n",
    "e= Employee('Prijal', 233)\n",
    "e.Display()"
   ]
  },
  {
   "cell_type": "code",
   "execution_count": 7,
   "metadata": {},
   "outputs": [
    {
     "name": "stdout",
     "output_type": "stream",
     "text": [
      "eee lives in Lalitpur\n",
      "eee has salary 333\n"
     ]
    }
   ],
   "source": [
    "class Address(Employee):\n",
    "    def Loc(self):\n",
    "        print(f'{self.name} lives in Lalitpur')\n",
    "\n",
    "\n",
    "a=Address('eee', 333)\n",
    "a.Loc()\n",
    "a.Display()"
   ]
  }
 ],
 "metadata": {
  "kernelspec": {
   "display_name": "Python 3",
   "language": "python",
   "name": "python3"
  },
  "language_info": {
   "codemirror_mode": {
    "name": "ipython",
    "version": 3
   },
   "file_extension": ".py",
   "mimetype": "text/x-python",
   "name": "python",
   "nbconvert_exporter": "python",
   "pygments_lexer": "ipython3",
   "version": "3.12.0"
  }
 },
 "nbformat": 4,
 "nbformat_minor": 2
}
