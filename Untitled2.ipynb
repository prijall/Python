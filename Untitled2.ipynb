{
  "nbformat": 4,
  "nbformat_minor": 0,
  "metadata": {
    "colab": {
      "provenance": [],
      "gpuType": "T4",
      "authorship_tag": "ABX9TyPHcuKIsl6Yw7+y4Ctd5xxu"
    },
    "kernelspec": {
      "name": "python3",
      "display_name": "Python 3"
    },
    "language_info": {
      "name": "python"
    },
    "accelerator": "GPU"
  },
  "cells": [
    {
      "cell_type": "code",
      "execution_count": 54,
      "metadata": {
        "id": "HQcem3Jmg6Tm"
      },
      "outputs": [],
      "source": [
        "#@ Importing necessary libraries and dependencies:\n",
        "import torch\n",
        "from torch import nn\n",
        "from torch.optim import SGD"
      ]
    },
    {
      "cell_type": "code",
      "source": [
        "x=[[1, 2], [3, 4], [5, 6], [7, 8]]\n",
        "y=[[2], [8], [4], [7]]"
      ],
      "metadata": {
        "id": "W1XHopB-hAQZ"
      },
      "execution_count": 55,
      "outputs": []
    },
    {
      "cell_type": "code",
      "source": [
        "X=torch.tensor(x).float()\n",
        "Y=torch.tensor(y).float()"
      ],
      "metadata": {
        "id": "nMftHxbrlcVC"
      },
      "execution_count": 56,
      "outputs": []
    },
    {
      "cell_type": "code",
      "source": [
        "device='cuda' if torch.cuda.is_available() else 'cpu'\n",
        "X=X.to(device)\n",
        "Y=Y.to(device)"
      ],
      "metadata": {
        "id": "BM0APMoFhi-i"
      },
      "execution_count": 57,
      "outputs": []
    },
    {
      "cell_type": "code",
      "source": [
        "class NeuralNet(nn.Module):\n",
        "  def __init__(self):\n",
        "    super().__init__()\n",
        "    self.inputlayer=nn.Linear(2, 8)\n",
        "    self.hiddenlayer=nn.ReLU()\n",
        "    self.outputlayer=nn.Linear(8,1)\n",
        "\n",
        "  def forward(self, x):\n",
        "    x= self.inputlayer(x)\n",
        "    x= self.hiddenlayer(x)\n",
        "    x= self.outputlayer(x)\n",
        "    return x\n",
        "\n"
      ],
      "metadata": {
        "id": "Un6UbeNeiMC6"
      },
      "execution_count": 58,
      "outputs": []
    },
    {
      "cell_type": "code",
      "source": [
        "mynet=NeuralNet().to(device)"
      ],
      "metadata": {
        "id": "jky-CpfBkuRq"
      },
      "execution_count": 59,
      "outputs": []
    },
    {
      "cell_type": "code",
      "source": [
        "\n",
        "loss_func=nn.MSELoss()\n"
      ],
      "metadata": {
        "id": "VHtAewrwkavS"
      },
      "execution_count": 60,
      "outputs": []
    },
    {
      "cell_type": "code",
      "source": [
        "_Y=mynet(X)\n",
        "loss_value=loss_func(_Y, Y)\n",
        "print(loss_value)"
      ],
      "metadata": {
        "colab": {
          "base_uri": "https://localhost:8080/"
        },
        "id": "cMtusP2xk4Ix",
        "outputId": "c3524c44-a542-4415-9dc0-5a61cba51064"
      },
      "execution_count": 61,
      "outputs": [
        {
          "output_type": "stream",
          "name": "stdout",
          "text": [
            "tensor(57.0163, device='cuda:0', grad_fn=<MseLossBackward0>)\n"
          ]
        }
      ]
    },
    {
      "cell_type": "code",
      "source": [
        "optimizer=SGD(mynet.parameters(), lr=0.01)"
      ],
      "metadata": {
        "id": "0fySDuiANVNP"
      },
      "execution_count": 62,
      "outputs": []
    },
    {
      "cell_type": "code",
      "source": [
        "loss_history=[]\n",
        "for _ in range(20):\n",
        "  optimizer.zero_grad() # removes previous epoch's gradient\n",
        "  loss_value=loss_func(mynet(X), Y) #computes loss\n",
        "  loss_value.backward() # backpropagation\n",
        "  optimizer.step() # update weights\n",
        "  loss_history.append(loss_value.item())  #upadated optimized value into list\n",
        "\n",
        "# for data in loss_history:\n",
        "#   print(data)"
      ],
      "metadata": {
        "id": "blnUbI3gNlmP"
      },
      "execution_count": 69,
      "outputs": []
    },
    {
      "cell_type": "code",
      "source": [
        "import matplotlib.pyplot as plt\n",
        "%matplotlib inline\n",
        "plt.plot(loss_history)\n",
        "plt.title('Loss variation over increasing epochs')\n",
        "plt.xlabel('Epochs')\n",
        "plt.ylabel('Loss Value')"
      ],
      "metadata": {
        "colab": {
          "base_uri": "https://localhost:8080/",
          "height": 489
        },
        "id": "y1Mp2yqdOEvg",
        "outputId": "2fadb85a-541b-4ccf-827b-997f71c98522"
      },
      "execution_count": 64,
      "outputs": [
        {
          "output_type": "execute_result",
          "data": {
            "text/plain": [
              "Text(0, 0.5, 'Loss Value')"
            ]
          },
          "metadata": {},
          "execution_count": 64
        },
        {
          "output_type": "display_data",
          "data": {
            "text/plain": [
              "<Figure size 640x480 with 1 Axes>"
            ],
            "image/png": "[encoded data removed]"
          },
          "metadata": {}
        }
      ]
    }
  ]
}