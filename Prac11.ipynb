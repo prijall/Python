{
 "cells": [
  {
   "cell_type": "code",
   "execution_count": 1,
   "metadata": {},
   "outputs": [
    {
     "name": "stdout",
     "output_type": "stream",
     "text": [
      "1.0\n",
      "0.9090909090909091\n",
      "0.8333333333333334\n",
      "0.7692307692307692\n",
      "0.7142857142857143\n",
      "0.6666666666666666\n",
      "0.625\n",
      "0.588235294117647\n",
      "0.5555555555555556\n",
      "0.5263157894736842\n",
      "0.5\n",
      "0.47619047619047616\n",
      "0.45454545454545453\n",
      "0.4347826086956522\n",
      "0.41666666666666663\n",
      "0.4\n",
      "0.3846153846153846\n",
      "0.37037037037037035\n",
      "0.35714285714285715\n",
      "0.3448275862068965\n"
     ]
    }
   ],
   "source": [
    "#2 Concept revision:\n",
    "lr_start=1\n",
    "lr_decay=0.1\n",
    "\n",
    "for step in range(20):\n",
    "    lr=lr_start * (1 / (1 + lr_decay*step))\n",
    "    print(lr)"
   ]
  },
  {
   "cell_type": "code",
   "execution_count": 2,
   "metadata": {},
   "outputs": [],
   "source": [
    "#@ Stochastics Gradient Descent:\n",
    "\n",
    "class SGD_Optimizer:\n",
    "    def __init__(self, learning_rate=1, decay=0.1):\n",
    "        self.learning_rate=learning_rate\n",
    "        self.decay=decay\n",
    "        self.current_learning_rate=learning_rate\n",
    "        self.iterations=0\n",
    "        \n",
    "    #@ Calling once before any parameter updates:\n",
    "    def pre_update_params(self):\n",
    "        if self.decay:\n",
    "            self.current_learning_rate=self.learning_rate *( 1/ (1 + self.decay * self.iterations))\n",
    "\n",
    "    #@ Update params:\n",
    "    def update_params(self, layer):\n",
    "        layer.weights+= -self.current_learning_rate * layer.dweights\n",
    "        layer.biases+= -self.current_learning_rate * layer.dbiases\n",
    "\n",
    "    #@ Call once after any params update:\n",
    "    def post_update_params(self):\n",
    "        self.iterations+=1"
   ]
  }
 ],
 "metadata": {
  "kernelspec": {
   "display_name": "Python 3",
   "language": "python",
   "name": "python3"
  },
  "language_info": {
   "codemirror_mode": {
    "name": "ipython",
    "version": 3
   },
   "file_extension": ".py",
   "mimetype": "text/x-python",
   "name": "python",
   "nbconvert_exporter": "python",
   "pygments_lexer": "ipython3",
   "version": "3.12.0"
  }
 },
 "nbformat": 4,
 "nbformat_minor": 2
}
