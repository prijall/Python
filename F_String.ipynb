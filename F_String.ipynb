{
 "cells": [
  {
   "cell_type": "code",
   "execution_count": 1,
   "metadata": {},
   "outputs": [
    {
     "name": "stdout",
     "output_type": "stream",
     "text": [
      "Prijal Khadka\n"
     ]
    }
   ],
   "source": [
    "name = 'Prijal'\n",
    "\n",
    "full_name= f'{name} Khadka'\n",
    "\n",
    "print(full_name)\n"
   ]
  },
  {
   "cell_type": "code",
   "execution_count": 27,
   "metadata": {},
   "outputs": [
    {
     "name": "stdout",
     "output_type": "stream",
     "text": [
      "The value of cube of 3 plus 3 is 30\n"
     ]
    }
   ],
   "source": [
    "def cube(x):\n",
    "    return x * x * x\n",
    "\n",
    "print(f'The value of cube of 3 plus 3 is {cube(3) + 3}')"
   ]
  },
  {
   "cell_type": "code",
   "execution_count": 29,
   "metadata": {},
   "outputs": [
    {
     "name": "stdout",
     "output_type": "stream",
     "text": [
      "\n",
      "DearPrijal,\n",
      " \n",
      "Thank you for your recent order!\n",
      "Your order number is 210122.\n",
      "\n",
      "Best wishes,\n",
      "Team\n",
      "\n"
     ]
    }
   ],
   "source": [
    "order_id=210122\n",
    "\n",
    "msg=f\"\"\"\n",
    "Dear{name},\n",
    " \n",
    "Thank you for your recent order!\n",
    "Your order number is {order_id}.\n",
    "\n",
    "Best wishes,\n",
    "Team\n",
    "\"\"\"\n",
    "\n",
    "print(msg)"
   ]
  },
  {
   "cell_type": "code",
   "execution_count": 6,
   "metadata": {},
   "outputs": [
    {
     "name": "stdout",
     "output_type": "stream",
     "text": [
      "name='Prijal', age=21\n"
     ]
    }
   ],
   "source": [
    "age = 21\n",
    "\n",
    "print(f'{name=}, {age=}')"
   ]
  },
  {
   "cell_type": "code",
   "execution_count": 25,
   "metadata": {},
   "outputs": [
    {
     "name": "stdout",
     "output_type": "stream",
     "text": [
      "the current date and time is  2024-03-25 14:48:50\n"
     ]
    }
   ],
   "source": [
    "from datetime import datetime\n",
    "\n",
    "now=datetime.now()\n",
    "\n",
    "print(f'the current date and time is {now: %Y-%m-%d %H:%M:%S}')"
   ]
  }
 ],
 "metadata": {
  "kernelspec": {
   "display_name": "Python 3",
   "language": "python",
   "name": "python3"
  },
  "language_info": {
   "codemirror_mode": {
    "name": "ipython",
    "version": 3
   },
   "file_extension": ".py",
   "mimetype": "text/x-python",
   "name": "python",
   "nbconvert_exporter": "python",
   "pygments_lexer": "ipython3",
   "version": "3.12.0"
  }
 },
 "nbformat": 4,
 "nbformat_minor": 2
}
