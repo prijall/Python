{
 "cells": [
  {
   "cell_type": "code",
   "execution_count": 1,
   "metadata": {},
   "outputs": [
    {
     "name": "stdout",
     "output_type": "stream",
     "text": [
      "['__class__', '__delattr__', '__dict__', '__dir__', '__doc__', '__eq__', '__format__', '__ge__', '__getattribute__', '__getstate__', '__gt__', '__hash__', '__init__', '__init_subclass__', '__le__', '__lt__', '__module__', '__ne__', '__new__', '__reduce__', '__reduce_ex__', '__repr__', '__setattr__', '__sizeof__', '__str__', '__subclasshook__', '__weakref__', '_funName', '_name']\n",
      "Harry\n",
      "CodeWithHarry\n",
      "Harry\n",
      "CodeWithHarry\n"
     ]
    }
   ],
   "source": [
    "class Student:\n",
    "    def __init__(self):\n",
    "        self._name = \"Harry\"\n",
    "\n",
    "    def _funName(self):      # protected method\n",
    "        return \"CodeWithHarry\"\n",
    "\n",
    "class Subject(Student):       #inherited class\n",
    "    pass\n",
    "\n",
    "obj = Student()\n",
    "obj1 = Subject()\n",
    "print(dir(obj))\n",
    "\n",
    "# calling by object of Student class\n",
    "print(obj._name)      \n",
    "print(obj._funName())     \n",
    "# calling by object of Subject class\n",
    "print(obj1._name)    \n",
    "print(obj1._funName())"
   ]
  }
 ],
 "metadata": {
  "kernelspec": {
   "display_name": "Python 3",
   "language": "python",
   "name": "python3"
  },
  "language_info": {
   "codemirror_mode": {
    "name": "ipython",
    "version": 3
   },
   "file_extension": ".py",
   "mimetype": "text/x-python",
   "name": "python",
   "nbconvert_exporter": "python",
   "pygments_lexer": "ipython3",
   "version": "3.12.0"
  }
 },
 "nbformat": 4,
 "nbformat_minor": 2
}
