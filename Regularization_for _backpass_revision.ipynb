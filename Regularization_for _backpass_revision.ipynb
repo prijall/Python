{
 "cells": [
  {
   "cell_type": "code",
   "execution_count": 2,
   "metadata": {},
   "outputs": [],
   "source": [
    "weights=[[0.2, -0.4, 0.9],\n",
    "         [1, 3, -8], \n",
    "         [-0.7, 6, 4.3]]\n",
    "\n",
    "dL1=[] #array of partial derivative of L1 regularization"
   ]
  },
  {
   "cell_type": "code",
   "execution_count": 4,
   "metadata": {},
   "outputs": [
    {
     "name": "stdout",
     "output_type": "stream",
     "text": [
      "[[1, -1, 1], [1, 1, -1], [-1, 1, 1]]\n"
     ]
    }
   ],
   "source": [
    "for neuron in weights:\n",
    "    neuron_dL1=[]\n",
    "    for weight in neuron:\n",
    "        if weight >=0:\n",
    "            neuron_dL1.append(1)\n",
    "        else:\n",
    "            neuron_dL1.append(-1)\n",
    "\n",
    "    dL1.append(neuron_dL1)\n",
    "\n",
    "print(dL1)"
   ]
  }
 ],
 "metadata": {
  "kernelspec": {
   "display_name": "Python 3",
   "language": "python",
   "name": "python3"
  },
  "language_info": {
   "codemirror_mode": {
    "name": "ipython",
    "version": 3
   },
   "file_extension": ".py",
   "mimetype": "text/x-python",
   "name": "python",
   "nbconvert_exporter": "python",
   "pygments_lexer": "ipython3",
   "version": "3.12.0"
  }
 },
 "nbformat": 4,
 "nbformat_minor": 2
}
